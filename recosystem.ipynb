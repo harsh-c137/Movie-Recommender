{
 "cells": [
  {
   "cell_type": "code",
   "execution_count": 2,
   "metadata": {},
   "outputs": [],
   "source": [
    "import pandas as pd\n",
    "import numpy as np\n",
    "import matplotlib.pyplot as plt\n",
    "import ast\n",
    "import pyarrow\n",
    "import pickle"
   ]
  },
  {
   "cell_type": "markdown",
   "metadata": {},
   "source": [
    "# Part 1: Preprocessing"
   ]
  },
  {
   "cell_type": "code",
   "execution_count": 2,
   "metadata": {},
   "outputs": [],
   "source": [
    "movies = pd.read_csv('data/tmdb_5000_movies.csv')\n",
    "credits = pd.read_csv('data/tmdb_5000_credits.csv')"
   ]
  },
  {
   "cell_type": "markdown",
   "metadata": {},
   "source": [
    "Check columns and just one entry to get general understanding (for both dataframes)"
   ]
  },
  {
   "cell_type": "code",
   "execution_count": 3,
   "metadata": {},
   "outputs": [
    {
     "data": {
      "text/html": [
       "<div>\n",
       "<style scoped>\n",
       "    .dataframe tbody tr th:only-of-type {\n",
       "        vertical-align: middle;\n",
       "    }\n",
       "\n",
       "    .dataframe tbody tr th {\n",
       "        vertical-align: top;\n",
       "    }\n",
       "\n",
       "    .dataframe thead th {\n",
       "        text-align: right;\n",
       "    }\n",
       "</style>\n",
       "<table border=\"1\" class=\"dataframe\">\n",
       "  <thead>\n",
       "    <tr style=\"text-align: right;\">\n",
       "      <th></th>\n",
       "      <th>budget</th>\n",
       "      <th>genres</th>\n",
       "      <th>homepage</th>\n",
       "      <th>id</th>\n",
       "      <th>keywords</th>\n",
       "      <th>original_language</th>\n",
       "      <th>original_title</th>\n",
       "      <th>overview</th>\n",
       "      <th>popularity</th>\n",
       "      <th>production_companies</th>\n",
       "      <th>production_countries</th>\n",
       "      <th>release_date</th>\n",
       "      <th>revenue</th>\n",
       "      <th>runtime</th>\n",
       "      <th>spoken_languages</th>\n",
       "      <th>status</th>\n",
       "      <th>tagline</th>\n",
       "      <th>title</th>\n",
       "      <th>vote_average</th>\n",
       "      <th>vote_count</th>\n",
       "    </tr>\n",
       "  </thead>\n",
       "  <tbody>\n",
       "    <tr>\n",
       "      <th>0</th>\n",
       "      <td>237000000</td>\n",
       "      <td>[{\"id\": 28, \"name\": \"Action\"}, {\"id\": 12, \"nam...</td>\n",
       "      <td>http://www.avatarmovie.com/</td>\n",
       "      <td>19995</td>\n",
       "      <td>[{\"id\": 1463, \"name\": \"culture clash\"}, {\"id\":...</td>\n",
       "      <td>en</td>\n",
       "      <td>Avatar</td>\n",
       "      <td>In the 22nd century, a paraplegic Marine is di...</td>\n",
       "      <td>150.437577</td>\n",
       "      <td>[{\"name\": \"Ingenious Film Partners\", \"id\": 289...</td>\n",
       "      <td>[{\"iso_3166_1\": \"US\", \"name\": \"United States o...</td>\n",
       "      <td>2009-12-10</td>\n",
       "      <td>2787965087</td>\n",
       "      <td>162.0</td>\n",
       "      <td>[{\"iso_639_1\": \"en\", \"name\": \"English\"}, {\"iso...</td>\n",
       "      <td>Released</td>\n",
       "      <td>Enter the World of Pandora.</td>\n",
       "      <td>Avatar</td>\n",
       "      <td>7.2</td>\n",
       "      <td>11800</td>\n",
       "    </tr>\n",
       "  </tbody>\n",
       "</table>\n",
       "</div>"
      ],
      "text/plain": [
       "      budget                                             genres  \\\n",
       "0  237000000  [{\"id\": 28, \"name\": \"Action\"}, {\"id\": 12, \"nam...   \n",
       "\n",
       "                      homepage     id  \\\n",
       "0  http://www.avatarmovie.com/  19995   \n",
       "\n",
       "                                            keywords original_language  \\\n",
       "0  [{\"id\": 1463, \"name\": \"culture clash\"}, {\"id\":...                en   \n",
       "\n",
       "  original_title                                           overview  \\\n",
       "0         Avatar  In the 22nd century, a paraplegic Marine is di...   \n",
       "\n",
       "   popularity                               production_companies  \\\n",
       "0  150.437577  [{\"name\": \"Ingenious Film Partners\", \"id\": 289...   \n",
       "\n",
       "                                production_countries release_date     revenue  \\\n",
       "0  [{\"iso_3166_1\": \"US\", \"name\": \"United States o...   2009-12-10  2787965087   \n",
       "\n",
       "   runtime                                   spoken_languages    status  \\\n",
       "0    162.0  [{\"iso_639_1\": \"en\", \"name\": \"English\"}, {\"iso...  Released   \n",
       "\n",
       "                       tagline   title  vote_average  vote_count  \n",
       "0  Enter the World of Pandora.  Avatar           7.2       11800  "
      ]
     },
     "execution_count": 3,
     "metadata": {},
     "output_type": "execute_result"
    }
   ],
   "source": [
    "movies.head(1)"
   ]
  },
  {
   "cell_type": "code",
   "execution_count": 4,
   "metadata": {},
   "outputs": [
    {
     "data": {
      "text/plain": [
       "(4803, 20)"
      ]
     },
     "execution_count": 4,
     "metadata": {},
     "output_type": "execute_result"
    }
   ],
   "source": [
    "movies.shape"
   ]
  },
  {
   "cell_type": "code",
   "execution_count": 5,
   "metadata": {},
   "outputs": [
    {
     "data": {
      "text/html": [
       "<div>\n",
       "<style scoped>\n",
       "    .dataframe tbody tr th:only-of-type {\n",
       "        vertical-align: middle;\n",
       "    }\n",
       "\n",
       "    .dataframe tbody tr th {\n",
       "        vertical-align: top;\n",
       "    }\n",
       "\n",
       "    .dataframe thead th {\n",
       "        text-align: right;\n",
       "    }\n",
       "</style>\n",
       "<table border=\"1\" class=\"dataframe\">\n",
       "  <thead>\n",
       "    <tr style=\"text-align: right;\">\n",
       "      <th></th>\n",
       "      <th>movie_id</th>\n",
       "      <th>title</th>\n",
       "      <th>cast</th>\n",
       "      <th>crew</th>\n",
       "    </tr>\n",
       "  </thead>\n",
       "  <tbody>\n",
       "    <tr>\n",
       "      <th>0</th>\n",
       "      <td>19995</td>\n",
       "      <td>Avatar</td>\n",
       "      <td>[{\"cast_id\": 242, \"character\": \"Jake Sully\", \"...</td>\n",
       "      <td>[{\"credit_id\": \"52fe48009251416c750aca23\", \"de...</td>\n",
       "    </tr>\n",
       "  </tbody>\n",
       "</table>\n",
       "</div>"
      ],
      "text/plain": [
       "   movie_id   title                                               cast  \\\n",
       "0     19995  Avatar  [{\"cast_id\": 242, \"character\": \"Jake Sully\", \"...   \n",
       "\n",
       "                                                crew  \n",
       "0  [{\"credit_id\": \"52fe48009251416c750aca23\", \"de...  "
      ]
     },
     "execution_count": 5,
     "metadata": {},
     "output_type": "execute_result"
    }
   ],
   "source": [
    "credits.head(1)"
   ]
  },
  {
   "cell_type": "code",
   "execution_count": 6,
   "metadata": {},
   "outputs": [
    {
     "data": {
      "text/plain": [
       "(4803, 4)"
      ]
     },
     "execution_count": 6,
     "metadata": {},
     "output_type": "execute_result"
    }
   ],
   "source": [
    "credits.shape"
   ]
  },
  {
   "cell_type": "markdown",
   "metadata": {},
   "source": [
    "Merge the two DF's"
   ]
  },
  {
   "cell_type": "code",
   "execution_count": 7,
   "metadata": {},
   "outputs": [
    {
     "data": {
      "text/html": [
       "<div>\n",
       "<style scoped>\n",
       "    .dataframe tbody tr th:only-of-type {\n",
       "        vertical-align: middle;\n",
       "    }\n",
       "\n",
       "    .dataframe tbody tr th {\n",
       "        vertical-align: top;\n",
       "    }\n",
       "\n",
       "    .dataframe thead th {\n",
       "        text-align: right;\n",
       "    }\n",
       "</style>\n",
       "<table border=\"1\" class=\"dataframe\">\n",
       "  <thead>\n",
       "    <tr style=\"text-align: right;\">\n",
       "      <th></th>\n",
       "      <th>budget</th>\n",
       "      <th>genres</th>\n",
       "      <th>homepage</th>\n",
       "      <th>id</th>\n",
       "      <th>keywords</th>\n",
       "      <th>original_language</th>\n",
       "      <th>original_title</th>\n",
       "      <th>overview</th>\n",
       "      <th>popularity</th>\n",
       "      <th>production_companies</th>\n",
       "      <th>...</th>\n",
       "      <th>runtime</th>\n",
       "      <th>spoken_languages</th>\n",
       "      <th>status</th>\n",
       "      <th>tagline</th>\n",
       "      <th>title_x</th>\n",
       "      <th>vote_average</th>\n",
       "      <th>vote_count</th>\n",
       "      <th>title_y</th>\n",
       "      <th>cast</th>\n",
       "      <th>crew</th>\n",
       "    </tr>\n",
       "  </thead>\n",
       "  <tbody>\n",
       "    <tr>\n",
       "      <th>0</th>\n",
       "      <td>237000000</td>\n",
       "      <td>[{\"id\": 28, \"name\": \"Action\"}, {\"id\": 12, \"nam...</td>\n",
       "      <td>http://www.avatarmovie.com/</td>\n",
       "      <td>19995</td>\n",
       "      <td>[{\"id\": 1463, \"name\": \"culture clash\"}, {\"id\":...</td>\n",
       "      <td>en</td>\n",
       "      <td>Avatar</td>\n",
       "      <td>In the 22nd century, a paraplegic Marine is di...</td>\n",
       "      <td>150.437577</td>\n",
       "      <td>[{\"name\": \"Ingenious Film Partners\", \"id\": 289...</td>\n",
       "      <td>...</td>\n",
       "      <td>162.0</td>\n",
       "      <td>[{\"iso_639_1\": \"en\", \"name\": \"English\"}, {\"iso...</td>\n",
       "      <td>Released</td>\n",
       "      <td>Enter the World of Pandora.</td>\n",
       "      <td>Avatar</td>\n",
       "      <td>7.2</td>\n",
       "      <td>11800</td>\n",
       "      <td>Avatar</td>\n",
       "      <td>[{\"cast_id\": 242, \"character\": \"Jake Sully\", \"...</td>\n",
       "      <td>[{\"credit_id\": \"52fe48009251416c750aca23\", \"de...</td>\n",
       "    </tr>\n",
       "    <tr>\n",
       "      <th>1</th>\n",
       "      <td>300000000</td>\n",
       "      <td>[{\"id\": 12, \"name\": \"Adventure\"}, {\"id\": 14, \"...</td>\n",
       "      <td>http://disney.go.com/disneypictures/pirates/</td>\n",
       "      <td>285</td>\n",
       "      <td>[{\"id\": 270, \"name\": \"ocean\"}, {\"id\": 726, \"na...</td>\n",
       "      <td>en</td>\n",
       "      <td>Pirates of the Caribbean: At World's End</td>\n",
       "      <td>Captain Barbossa, long believed to be dead, ha...</td>\n",
       "      <td>139.082615</td>\n",
       "      <td>[{\"name\": \"Walt Disney Pictures\", \"id\": 2}, {\"...</td>\n",
       "      <td>...</td>\n",
       "      <td>169.0</td>\n",
       "      <td>[{\"iso_639_1\": \"en\", \"name\": \"English\"}]</td>\n",
       "      <td>Released</td>\n",
       "      <td>At the end of the world, the adventure begins.</td>\n",
       "      <td>Pirates of the Caribbean: At World's End</td>\n",
       "      <td>6.9</td>\n",
       "      <td>4500</td>\n",
       "      <td>Pirates of the Caribbean: At World's End</td>\n",
       "      <td>[{\"cast_id\": 4, \"character\": \"Captain Jack Spa...</td>\n",
       "      <td>[{\"credit_id\": \"52fe4232c3a36847f800b579\", \"de...</td>\n",
       "    </tr>\n",
       "  </tbody>\n",
       "</table>\n",
       "<p>2 rows × 23 columns</p>\n",
       "</div>"
      ],
      "text/plain": [
       "      budget                                             genres  \\\n",
       "0  237000000  [{\"id\": 28, \"name\": \"Action\"}, {\"id\": 12, \"nam...   \n",
       "1  300000000  [{\"id\": 12, \"name\": \"Adventure\"}, {\"id\": 14, \"...   \n",
       "\n",
       "                                       homepage     id  \\\n",
       "0                   http://www.avatarmovie.com/  19995   \n",
       "1  http://disney.go.com/disneypictures/pirates/    285   \n",
       "\n",
       "                                            keywords original_language  \\\n",
       "0  [{\"id\": 1463, \"name\": \"culture clash\"}, {\"id\":...                en   \n",
       "1  [{\"id\": 270, \"name\": \"ocean\"}, {\"id\": 726, \"na...                en   \n",
       "\n",
       "                             original_title  \\\n",
       "0                                    Avatar   \n",
       "1  Pirates of the Caribbean: At World's End   \n",
       "\n",
       "                                            overview  popularity  \\\n",
       "0  In the 22nd century, a paraplegic Marine is di...  150.437577   \n",
       "1  Captain Barbossa, long believed to be dead, ha...  139.082615   \n",
       "\n",
       "                                production_companies  ... runtime  \\\n",
       "0  [{\"name\": \"Ingenious Film Partners\", \"id\": 289...  ...   162.0   \n",
       "1  [{\"name\": \"Walt Disney Pictures\", \"id\": 2}, {\"...  ...   169.0   \n",
       "\n",
       "                                    spoken_languages    status  \\\n",
       "0  [{\"iso_639_1\": \"en\", \"name\": \"English\"}, {\"iso...  Released   \n",
       "1           [{\"iso_639_1\": \"en\", \"name\": \"English\"}]  Released   \n",
       "\n",
       "                                          tagline  \\\n",
       "0                     Enter the World of Pandora.   \n",
       "1  At the end of the world, the adventure begins.   \n",
       "\n",
       "                                    title_x vote_average vote_count  \\\n",
       "0                                    Avatar          7.2      11800   \n",
       "1  Pirates of the Caribbean: At World's End          6.9       4500   \n",
       "\n",
       "                                    title_y  \\\n",
       "0                                    Avatar   \n",
       "1  Pirates of the Caribbean: At World's End   \n",
       "\n",
       "                                                cast  \\\n",
       "0  [{\"cast_id\": 242, \"character\": \"Jake Sully\", \"...   \n",
       "1  [{\"cast_id\": 4, \"character\": \"Captain Jack Spa...   \n",
       "\n",
       "                                                crew  \n",
       "0  [{\"credit_id\": \"52fe48009251416c750aca23\", \"de...  \n",
       "1  [{\"credit_id\": \"52fe4232c3a36847f800b579\", \"de...  \n",
       "\n",
       "[2 rows x 23 columns]"
      ]
     },
     "execution_count": 7,
     "metadata": {},
     "output_type": "execute_result"
    }
   ],
   "source": [
    "movies = pd.merge(movies, credits, left_on='id', right_on='movie_id', how='inner').drop(['movie_id'],axis=1)   # Drop the redundant column\n",
    "movies.head(2)"
   ]
  },
  {
   "cell_type": "code",
   "execution_count": 8,
   "metadata": {},
   "outputs": [
    {
     "data": {
      "text/plain": [
       "Index(['budget', 'genres', 'homepage', 'id', 'keywords', 'original_language',\n",
       "       'original_title', 'overview', 'popularity', 'production_companies',\n",
       "       'production_countries', 'release_date', 'revenue', 'runtime',\n",
       "       'spoken_languages', 'status', 'tagline', 'title_x', 'vote_average',\n",
       "       'vote_count', 'title_y', 'cast', 'crew'],\n",
       "      dtype='object')"
      ]
     },
     "execution_count": 8,
     "metadata": {},
     "output_type": "execute_result"
    }
   ],
   "source": [
    "movies.columns"
   ]
  },
  {
   "cell_type": "markdown",
   "metadata": {},
   "source": [
    "Only keep necessary columns"
   ]
  },
  {
   "cell_type": "code",
   "execution_count": 9,
   "metadata": {},
   "outputs": [
    {
     "data": {
      "text/html": [
       "<div>\n",
       "<style scoped>\n",
       "    .dataframe tbody tr th:only-of-type {\n",
       "        vertical-align: middle;\n",
       "    }\n",
       "\n",
       "    .dataframe tbody tr th {\n",
       "        vertical-align: top;\n",
       "    }\n",
       "\n",
       "    .dataframe thead th {\n",
       "        text-align: right;\n",
       "    }\n",
       "</style>\n",
       "<table border=\"1\" class=\"dataframe\">\n",
       "  <thead>\n",
       "    <tr style=\"text-align: right;\">\n",
       "      <th></th>\n",
       "      <th>id</th>\n",
       "      <th>title</th>\n",
       "      <th>overview</th>\n",
       "      <th>genres</th>\n",
       "      <th>keywords</th>\n",
       "      <th>cast</th>\n",
       "      <th>crew</th>\n",
       "    </tr>\n",
       "  </thead>\n",
       "  <tbody>\n",
       "    <tr>\n",
       "      <th>0</th>\n",
       "      <td>19995</td>\n",
       "      <td>Avatar</td>\n",
       "      <td>In the 22nd century, a paraplegic Marine is di...</td>\n",
       "      <td>[{\"id\": 28, \"name\": \"Action\"}, {\"id\": 12, \"nam...</td>\n",
       "      <td>[{\"id\": 1463, \"name\": \"culture clash\"}, {\"id\":...</td>\n",
       "      <td>[{\"cast_id\": 242, \"character\": \"Jake Sully\", \"...</td>\n",
       "      <td>[{\"credit_id\": \"52fe48009251416c750aca23\", \"de...</td>\n",
       "    </tr>\n",
       "  </tbody>\n",
       "</table>\n",
       "</div>"
      ],
      "text/plain": [
       "      id   title                                           overview  \\\n",
       "0  19995  Avatar  In the 22nd century, a paraplegic Marine is di...   \n",
       "\n",
       "                                              genres  \\\n",
       "0  [{\"id\": 28, \"name\": \"Action\"}, {\"id\": 12, \"nam...   \n",
       "\n",
       "                                            keywords  \\\n",
       "0  [{\"id\": 1463, \"name\": \"culture clash\"}, {\"id\":...   \n",
       "\n",
       "                                                cast  \\\n",
       "0  [{\"cast_id\": 242, \"character\": \"Jake Sully\", \"...   \n",
       "\n",
       "                                                crew  \n",
       "0  [{\"credit_id\": \"52fe48009251416c750aca23\", \"de...  "
      ]
     },
     "execution_count": 9,
     "metadata": {},
     "output_type": "execute_result"
    }
   ],
   "source": [
    "movies = movies[['id', 'title_x', 'overview', 'genres', 'keywords', 'cast', 'crew']]\n",
    "movies.rename(columns={'title_x': 'title'}, inplace=True)          # we have a 'title_x' and 'title_y' column in the merged df, I believe because of both being present as 'title' in both df's prior to merging\n",
    "movies.head(1)"
   ]
  },
  {
   "cell_type": "code",
   "execution_count": 10,
   "metadata": {},
   "outputs": [
    {
     "data": {
      "text/plain": [
       "id          0\n",
       "title       0\n",
       "overview    3\n",
       "genres      0\n",
       "keywords    0\n",
       "cast        0\n",
       "crew        0\n",
       "dtype: int64"
      ]
     },
     "execution_count": 10,
     "metadata": {},
     "output_type": "execute_result"
    }
   ],
   "source": [
    "movies.isna().sum()"
   ]
  },
  {
   "cell_type": "markdown",
   "metadata": {},
   "source": [
    "Only 3 NaN's, can be dropped"
   ]
  },
  {
   "cell_type": "code",
   "execution_count": 11,
   "metadata": {},
   "outputs": [],
   "source": [
    "movies.dropna(inplace=True)"
   ]
  },
  {
   "cell_type": "code",
   "execution_count": 12,
   "metadata": {},
   "outputs": [
    {
     "data": {
      "text/plain": [
       "(4800, 7)"
      ]
     },
     "execution_count": 12,
     "metadata": {},
     "output_type": "execute_result"
    }
   ],
   "source": [
    "movies.shape"
   ]
  },
  {
   "cell_type": "markdown",
   "metadata": {},
   "source": [
    "Write a function to extract and keep only value of \"name\" keys from the list elements in genres and keywords"
   ]
  },
  {
   "cell_type": "markdown",
   "metadata": {},
   "source": [
    "Also write function to keep only first 3 members of cast, and keep only the director in crew"
   ]
  },
  {
   "cell_type": "code",
   "execution_count": 13,
   "metadata": {},
   "outputs": [
    {
     "data": {
      "text/plain": [
       "'[{\"id\": 28, \"name\": \"Action\"}, {\"id\": 12, \"name\": \"Adventure\"}, {\"id\": 14, \"name\": \"Fantasy\"}, {\"id\": 878, \"name\": \"Science Fiction\"}]'"
      ]
     },
     "execution_count": 13,
     "metadata": {},
     "output_type": "execute_result"
    }
   ],
   "source": [
    "# what does one entry look like?\n",
    "movies.iloc[0]['genres']"
   ]
  },
  {
   "cell_type": "code",
   "execution_count": 14,
   "metadata": {},
   "outputs": [
    {
     "data": {
      "text/html": [
       "<div>\n",
       "<style scoped>\n",
       "    .dataframe tbody tr th:only-of-type {\n",
       "        vertical-align: middle;\n",
       "    }\n",
       "\n",
       "    .dataframe tbody tr th {\n",
       "        vertical-align: top;\n",
       "    }\n",
       "\n",
       "    .dataframe thead th {\n",
       "        text-align: right;\n",
       "    }\n",
       "</style>\n",
       "<table border=\"1\" class=\"dataframe\">\n",
       "  <thead>\n",
       "    <tr style=\"text-align: right;\">\n",
       "      <th></th>\n",
       "      <th>id</th>\n",
       "      <th>title</th>\n",
       "      <th>overview</th>\n",
       "      <th>genres</th>\n",
       "      <th>keywords</th>\n",
       "      <th>cast</th>\n",
       "      <th>crew</th>\n",
       "    </tr>\n",
       "  </thead>\n",
       "  <tbody>\n",
       "    <tr>\n",
       "      <th>0</th>\n",
       "      <td>19995</td>\n",
       "      <td>Avatar</td>\n",
       "      <td>In the 22nd century, a paraplegic Marine is di...</td>\n",
       "      <td>[Action, Adventure, Fantasy, Science Fiction]</td>\n",
       "      <td>[culture clash, future, space war, space colon...</td>\n",
       "      <td>[Sam Worthington, Zoe Saldana, Sigourney Weaver]</td>\n",
       "      <td>[James Cameron]</td>\n",
       "    </tr>\n",
       "    <tr>\n",
       "      <th>1</th>\n",
       "      <td>285</td>\n",
       "      <td>Pirates of the Caribbean: At World's End</td>\n",
       "      <td>Captain Barbossa, long believed to be dead, ha...</td>\n",
       "      <td>[Adventure, Fantasy, Action]</td>\n",
       "      <td>[ocean, drug abuse, exotic island, east india ...</td>\n",
       "      <td>[Johnny Depp, Orlando Bloom, Keira Knightley]</td>\n",
       "      <td>[Gore Verbinski]</td>\n",
       "    </tr>\n",
       "    <tr>\n",
       "      <th>2</th>\n",
       "      <td>206647</td>\n",
       "      <td>Spectre</td>\n",
       "      <td>A cryptic message from Bond’s past sends him o...</td>\n",
       "      <td>[Action, Adventure, Crime]</td>\n",
       "      <td>[spy, based on novel, secret agent, sequel, mi...</td>\n",
       "      <td>[Daniel Craig, Christoph Waltz, Léa Seydoux]</td>\n",
       "      <td>[Sam Mendes]</td>\n",
       "    </tr>\n",
       "    <tr>\n",
       "      <th>3</th>\n",
       "      <td>49026</td>\n",
       "      <td>The Dark Knight Rises</td>\n",
       "      <td>Following the death of District Attorney Harve...</td>\n",
       "      <td>[Action, Crime, Drama, Thriller]</td>\n",
       "      <td>[dc comics, crime fighter, terrorist, secret i...</td>\n",
       "      <td>[Christian Bale, Michael Caine, Gary Oldman]</td>\n",
       "      <td>[Christopher Nolan]</td>\n",
       "    </tr>\n",
       "    <tr>\n",
       "      <th>4</th>\n",
       "      <td>49529</td>\n",
       "      <td>John Carter</td>\n",
       "      <td>John Carter is a war-weary, former military ca...</td>\n",
       "      <td>[Action, Adventure, Science Fiction]</td>\n",
       "      <td>[based on novel, mars, medallion, space travel...</td>\n",
       "      <td>[Taylor Kitsch, Lynn Collins, Samantha Morton]</td>\n",
       "      <td>[Andrew Stanton]</td>\n",
       "    </tr>\n",
       "  </tbody>\n",
       "</table>\n",
       "</div>"
      ],
      "text/plain": [
       "       id                                     title  \\\n",
       "0   19995                                    Avatar   \n",
       "1     285  Pirates of the Caribbean: At World's End   \n",
       "2  206647                                   Spectre   \n",
       "3   49026                     The Dark Knight Rises   \n",
       "4   49529                               John Carter   \n",
       "\n",
       "                                            overview  \\\n",
       "0  In the 22nd century, a paraplegic Marine is di...   \n",
       "1  Captain Barbossa, long believed to be dead, ha...   \n",
       "2  A cryptic message from Bond’s past sends him o...   \n",
       "3  Following the death of District Attorney Harve...   \n",
       "4  John Carter is a war-weary, former military ca...   \n",
       "\n",
       "                                          genres  \\\n",
       "0  [Action, Adventure, Fantasy, Science Fiction]   \n",
       "1                   [Adventure, Fantasy, Action]   \n",
       "2                     [Action, Adventure, Crime]   \n",
       "3               [Action, Crime, Drama, Thriller]   \n",
       "4           [Action, Adventure, Science Fiction]   \n",
       "\n",
       "                                            keywords  \\\n",
       "0  [culture clash, future, space war, space colon...   \n",
       "1  [ocean, drug abuse, exotic island, east india ...   \n",
       "2  [spy, based on novel, secret agent, sequel, mi...   \n",
       "3  [dc comics, crime fighter, terrorist, secret i...   \n",
       "4  [based on novel, mars, medallion, space travel...   \n",
       "\n",
       "                                               cast                 crew  \n",
       "0  [Sam Worthington, Zoe Saldana, Sigourney Weaver]      [James Cameron]  \n",
       "1     [Johnny Depp, Orlando Bloom, Keira Knightley]     [Gore Verbinski]  \n",
       "2      [Daniel Craig, Christoph Waltz, Léa Seydoux]         [Sam Mendes]  \n",
       "3      [Christian Bale, Michael Caine, Gary Oldman]  [Christopher Nolan]  \n",
       "4    [Taylor Kitsch, Lynn Collins, Samantha Morton]     [Andrew Stanton]  "
      ]
     },
     "execution_count": 14,
     "metadata": {},
     "output_type": "execute_result"
    }
   ],
   "source": [
    "# ast.literal_eval(x) turns the string x into a list (if it is at all possible, which it is in this case)\n",
    "\n",
    "movies['genres'] = movies['genres'].apply(lambda x: [dict_element['name'] for dict_element in ast.literal_eval(x)])\n",
    "movies['keywords'] = movies['keywords'].apply(lambda x: [dict_element['name'] for dict_element in ast.literal_eval(x)])\n",
    "movies['cast'] = movies['cast'].apply(lambda x: [dict_element['name'] for dict_element in ast.literal_eval(x)[:3]])    # we only want to keep first 3 cast members\n",
    "\n",
    "# Now we use a generator comprehension because we want to stop iterating over the dictionary elements once our director is found\n",
    "# In the code below, the next() function is designed to stop further iteration once it finds the first instance of dict_element['job']=='Director'\n",
    "# It is necessary to return None in case no director is found, because in case no director is found, you will get a stop iteration error which is when the gen comprehension gets exhausted but you're still telling it to keep going\n",
    "\n",
    "movies['crew'] = movies['crew'].apply(lambda x: next(([dict_element['name']] for dict_element in ast.literal_eval(x) if dict_element['job']=='Director'), None))\n",
    "\n",
    "movies.head(5)"
   ]
  },
  {
   "cell_type": "code",
   "execution_count": 15,
   "metadata": {},
   "outputs": [
    {
     "data": {
      "text/plain": [
       "id           0\n",
       "title        0\n",
       "overview     0\n",
       "genres       0\n",
       "keywords     0\n",
       "cast         0\n",
       "crew        30\n",
       "dtype: int64"
      ]
     },
     "execution_count": 15,
     "metadata": {},
     "output_type": "execute_result"
    }
   ],
   "source": [
    "movies.isna().sum()"
   ]
  },
  {
   "cell_type": "markdown",
   "metadata": {},
   "source": [
    "There 30 movies whose director field is None"
   ]
  },
  {
   "cell_type": "markdown",
   "metadata": {},
   "source": [
    "Now we do a bit of NLP"
   ]
  },
  {
   "cell_type": "markdown",
   "metadata": {},
   "source": [
    "Remove spaces from all people's names in both columns"
   ]
  },
  {
   "cell_type": "code",
   "execution_count": 16,
   "metadata": {},
   "outputs": [
    {
     "data": {
      "text/html": [
       "<div>\n",
       "<style scoped>\n",
       "    .dataframe tbody tr th:only-of-type {\n",
       "        vertical-align: middle;\n",
       "    }\n",
       "\n",
       "    .dataframe tbody tr th {\n",
       "        vertical-align: top;\n",
       "    }\n",
       "\n",
       "    .dataframe thead th {\n",
       "        text-align: right;\n",
       "    }\n",
       "</style>\n",
       "<table border=\"1\" class=\"dataframe\">\n",
       "  <thead>\n",
       "    <tr style=\"text-align: right;\">\n",
       "      <th></th>\n",
       "      <th>id</th>\n",
       "      <th>title</th>\n",
       "      <th>overview</th>\n",
       "      <th>genres</th>\n",
       "      <th>keywords</th>\n",
       "      <th>cast</th>\n",
       "      <th>crew</th>\n",
       "    </tr>\n",
       "  </thead>\n",
       "  <tbody>\n",
       "    <tr>\n",
       "      <th>0</th>\n",
       "      <td>19995</td>\n",
       "      <td>Avatar</td>\n",
       "      <td>In the 22nd century, a paraplegic Marine is di...</td>\n",
       "      <td>[Action, Adventure, Fantasy, ScienceFiction]</td>\n",
       "      <td>[cultureclash, future, spacewar, spacecolony, ...</td>\n",
       "      <td>[SamWorthington, ZoeSaldana, SigourneyWeaver]</td>\n",
       "      <td>[JamesCameron]</td>\n",
       "    </tr>\n",
       "    <tr>\n",
       "      <th>1</th>\n",
       "      <td>285</td>\n",
       "      <td>Pirates of the Caribbean: At World's End</td>\n",
       "      <td>Captain Barbossa, long believed to be dead, ha...</td>\n",
       "      <td>[Adventure, Fantasy, Action]</td>\n",
       "      <td>[ocean, drugabuse, exoticisland, eastindiatrad...</td>\n",
       "      <td>[JohnnyDepp, OrlandoBloom, KeiraKnightley]</td>\n",
       "      <td>[GoreVerbinski]</td>\n",
       "    </tr>\n",
       "    <tr>\n",
       "      <th>2</th>\n",
       "      <td>206647</td>\n",
       "      <td>Spectre</td>\n",
       "      <td>A cryptic message from Bond’s past sends him o...</td>\n",
       "      <td>[Action, Adventure, Crime]</td>\n",
       "      <td>[spy, basedonnovel, secretagent, sequel, mi6, ...</td>\n",
       "      <td>[DanielCraig, ChristophWaltz, LéaSeydoux]</td>\n",
       "      <td>[SamMendes]</td>\n",
       "    </tr>\n",
       "    <tr>\n",
       "      <th>3</th>\n",
       "      <td>49026</td>\n",
       "      <td>The Dark Knight Rises</td>\n",
       "      <td>Following the death of District Attorney Harve...</td>\n",
       "      <td>[Action, Crime, Drama, Thriller]</td>\n",
       "      <td>[dccomics, crimefighter, terrorist, secretiden...</td>\n",
       "      <td>[ChristianBale, MichaelCaine, GaryOldman]</td>\n",
       "      <td>[ChristopherNolan]</td>\n",
       "    </tr>\n",
       "    <tr>\n",
       "      <th>4</th>\n",
       "      <td>49529</td>\n",
       "      <td>John Carter</td>\n",
       "      <td>John Carter is a war-weary, former military ca...</td>\n",
       "      <td>[Action, Adventure, ScienceFiction]</td>\n",
       "      <td>[basedonnovel, mars, medallion, spacetravel, p...</td>\n",
       "      <td>[TaylorKitsch, LynnCollins, SamanthaMorton]</td>\n",
       "      <td>[AndrewStanton]</td>\n",
       "    </tr>\n",
       "  </tbody>\n",
       "</table>\n",
       "</div>"
      ],
      "text/plain": [
       "       id                                     title  \\\n",
       "0   19995                                    Avatar   \n",
       "1     285  Pirates of the Caribbean: At World's End   \n",
       "2  206647                                   Spectre   \n",
       "3   49026                     The Dark Knight Rises   \n",
       "4   49529                               John Carter   \n",
       "\n",
       "                                            overview  \\\n",
       "0  In the 22nd century, a paraplegic Marine is di...   \n",
       "1  Captain Barbossa, long believed to be dead, ha...   \n",
       "2  A cryptic message from Bond’s past sends him o...   \n",
       "3  Following the death of District Attorney Harve...   \n",
       "4  John Carter is a war-weary, former military ca...   \n",
       "\n",
       "                                         genres  \\\n",
       "0  [Action, Adventure, Fantasy, ScienceFiction]   \n",
       "1                  [Adventure, Fantasy, Action]   \n",
       "2                    [Action, Adventure, Crime]   \n",
       "3              [Action, Crime, Drama, Thriller]   \n",
       "4           [Action, Adventure, ScienceFiction]   \n",
       "\n",
       "                                            keywords  \\\n",
       "0  [cultureclash, future, spacewar, spacecolony, ...   \n",
       "1  [ocean, drugabuse, exoticisland, eastindiatrad...   \n",
       "2  [spy, basedonnovel, secretagent, sequel, mi6, ...   \n",
       "3  [dccomics, crimefighter, terrorist, secretiden...   \n",
       "4  [basedonnovel, mars, medallion, spacetravel, p...   \n",
       "\n",
       "                                            cast                crew  \n",
       "0  [SamWorthington, ZoeSaldana, SigourneyWeaver]      [JamesCameron]  \n",
       "1     [JohnnyDepp, OrlandoBloom, KeiraKnightley]     [GoreVerbinski]  \n",
       "2      [DanielCraig, ChristophWaltz, LéaSeydoux]         [SamMendes]  \n",
       "3      [ChristianBale, MichaelCaine, GaryOldman]  [ChristopherNolan]  \n",
       "4    [TaylorKitsch, LynnCollins, SamanthaMorton]     [AndrewStanton]  "
      ]
     },
     "execution_count": 16,
     "metadata": {},
     "output_type": "execute_result"
    }
   ],
   "source": [
    "movies['cast'] = movies['cast'].apply(lambda x: [element.replace(\" \",\"\") for element in ast.literal_eval(str(x))])\n",
    "movies['genres'] = movies['genres'].apply(lambda x: [element.replace(\" \",\"\") for element in ast.literal_eval(str(x))])\n",
    "movies['keywords'] = movies['keywords'].apply(lambda x: [element.replace(\" \",\"\") for element in ast.literal_eval(str(x))])\n",
    "movies['crew'] = movies['crew'].apply(lambda x: [element.replace(\" \",\"\") for element in x] if x is not None else [])   # Has to be dealt with separately because of the 30 NaN's\n",
    "\n",
    "movies.head(5)"
   ]
  },
  {
   "cell_type": "markdown",
   "metadata": {},
   "source": [
    "The code above can be modified to fit into just two lines by using the Dataframe.map function. Please feel free to PR with this change if you're able to do it"
   ]
  },
  {
   "cell_type": "markdown",
   "metadata": {},
   "source": [
    "Convert all entries in `overview` into list of words"
   ]
  },
  {
   "cell_type": "code",
   "execution_count": 17,
   "metadata": {},
   "outputs": [
    {
     "data": {
      "text/html": [
       "<div>\n",
       "<style scoped>\n",
       "    .dataframe tbody tr th:only-of-type {\n",
       "        vertical-align: middle;\n",
       "    }\n",
       "\n",
       "    .dataframe tbody tr th {\n",
       "        vertical-align: top;\n",
       "    }\n",
       "\n",
       "    .dataframe thead th {\n",
       "        text-align: right;\n",
       "    }\n",
       "</style>\n",
       "<table border=\"1\" class=\"dataframe\">\n",
       "  <thead>\n",
       "    <tr style=\"text-align: right;\">\n",
       "      <th></th>\n",
       "      <th>id</th>\n",
       "      <th>title</th>\n",
       "      <th>overview</th>\n",
       "      <th>genres</th>\n",
       "      <th>keywords</th>\n",
       "      <th>cast</th>\n",
       "      <th>crew</th>\n",
       "    </tr>\n",
       "  </thead>\n",
       "  <tbody>\n",
       "    <tr>\n",
       "      <th>0</th>\n",
       "      <td>19995</td>\n",
       "      <td>Avatar</td>\n",
       "      <td>[In, the, 22nd, century,, a, paraplegic, Marin...</td>\n",
       "      <td>[Action, Adventure, Fantasy, ScienceFiction]</td>\n",
       "      <td>[cultureclash, future, spacewar, spacecolony, ...</td>\n",
       "      <td>[SamWorthington, ZoeSaldana, SigourneyWeaver]</td>\n",
       "      <td>[JamesCameron]</td>\n",
       "    </tr>\n",
       "    <tr>\n",
       "      <th>1</th>\n",
       "      <td>285</td>\n",
       "      <td>Pirates of the Caribbean: At World's End</td>\n",
       "      <td>[Captain, Barbossa,, long, believed, to, be, d...</td>\n",
       "      <td>[Adventure, Fantasy, Action]</td>\n",
       "      <td>[ocean, drugabuse, exoticisland, eastindiatrad...</td>\n",
       "      <td>[JohnnyDepp, OrlandoBloom, KeiraKnightley]</td>\n",
       "      <td>[GoreVerbinski]</td>\n",
       "    </tr>\n",
       "  </tbody>\n",
       "</table>\n",
       "</div>"
      ],
      "text/plain": [
       "      id                                     title  \\\n",
       "0  19995                                    Avatar   \n",
       "1    285  Pirates of the Caribbean: At World's End   \n",
       "\n",
       "                                            overview  \\\n",
       "0  [In, the, 22nd, century,, a, paraplegic, Marin...   \n",
       "1  [Captain, Barbossa,, long, believed, to, be, d...   \n",
       "\n",
       "                                         genres  \\\n",
       "0  [Action, Adventure, Fantasy, ScienceFiction]   \n",
       "1                  [Adventure, Fantasy, Action]   \n",
       "\n",
       "                                            keywords  \\\n",
       "0  [cultureclash, future, spacewar, spacecolony, ...   \n",
       "1  [ocean, drugabuse, exoticisland, eastindiatrad...   \n",
       "\n",
       "                                            cast             crew  \n",
       "0  [SamWorthington, ZoeSaldana, SigourneyWeaver]   [JamesCameron]  \n",
       "1     [JohnnyDepp, OrlandoBloom, KeiraKnightley]  [GoreVerbinski]  "
      ]
     },
     "execution_count": 17,
     "metadata": {},
     "output_type": "execute_result"
    }
   ],
   "source": [
    "movies['overview'] = movies['overview'].apply(lambda x: x.split())\n",
    "movies.head(2)"
   ]
  },
  {
   "cell_type": "markdown",
   "metadata": {},
   "source": [
    "Consolidate all columns into one column (except id and title)"
   ]
  },
  {
   "cell_type": "code",
   "execution_count": 18,
   "metadata": {},
   "outputs": [
    {
     "data": {
      "text/html": [
       "<div>\n",
       "<style scoped>\n",
       "    .dataframe tbody tr th:only-of-type {\n",
       "        vertical-align: middle;\n",
       "    }\n",
       "\n",
       "    .dataframe tbody tr th {\n",
       "        vertical-align: top;\n",
       "    }\n",
       "\n",
       "    .dataframe thead th {\n",
       "        text-align: right;\n",
       "    }\n",
       "</style>\n",
       "<table border=\"1\" class=\"dataframe\">\n",
       "  <thead>\n",
       "    <tr style=\"text-align: right;\">\n",
       "      <th></th>\n",
       "      <th>id</th>\n",
       "      <th>title</th>\n",
       "      <th>tags</th>\n",
       "    </tr>\n",
       "  </thead>\n",
       "  <tbody>\n",
       "    <tr>\n",
       "      <th>0</th>\n",
       "      <td>19995</td>\n",
       "      <td>Avatar</td>\n",
       "      <td>[In, the, 22nd, century,, a, paraplegic, Marin...</td>\n",
       "    </tr>\n",
       "    <tr>\n",
       "      <th>1</th>\n",
       "      <td>285</td>\n",
       "      <td>Pirates of the Caribbean: At World's End</td>\n",
       "      <td>[Captain, Barbossa,, long, believed, to, be, d...</td>\n",
       "    </tr>\n",
       "    <tr>\n",
       "      <th>2</th>\n",
       "      <td>206647</td>\n",
       "      <td>Spectre</td>\n",
       "      <td>[A, cryptic, message, from, Bond’s, past, send...</td>\n",
       "    </tr>\n",
       "  </tbody>\n",
       "</table>\n",
       "</div>"
      ],
      "text/plain": [
       "       id                                     title  \\\n",
       "0   19995                                    Avatar   \n",
       "1     285  Pirates of the Caribbean: At World's End   \n",
       "2  206647                                   Spectre   \n",
       "\n",
       "                                                tags  \n",
       "0  [In, the, 22nd, century,, a, paraplegic, Marin...  \n",
       "1  [Captain, Barbossa,, long, believed, to, be, d...  \n",
       "2  [A, cryptic, message, from, Bond’s, past, send...  "
      ]
     },
     "execution_count": 18,
     "metadata": {},
     "output_type": "execute_result"
    }
   ],
   "source": [
    "movies['tags'] = movies[['overview', 'genres', 'keywords', 'cast', 'crew']].sum(axis=1)\n",
    "movies.drop(['overview', 'genres', 'keywords', 'cast', 'crew'], axis=1, inplace=True)\n",
    "movies.head(3)"
   ]
  },
  {
   "cell_type": "code",
   "execution_count": 19,
   "metadata": {},
   "outputs": [
    {
     "data": {
      "text/plain": [
       "['A',\n",
       " 'cryptic',\n",
       " 'message',\n",
       " 'from',\n",
       " 'Bond’s',\n",
       " 'past',\n",
       " 'sends',\n",
       " 'him',\n",
       " 'on',\n",
       " 'a',\n",
       " 'trail',\n",
       " 'to',\n",
       " 'uncover',\n",
       " 'a',\n",
       " 'sinister',\n",
       " 'organization.',\n",
       " 'While',\n",
       " 'M',\n",
       " 'battles',\n",
       " 'political',\n",
       " 'forces',\n",
       " 'to',\n",
       " 'keep',\n",
       " 'the',\n",
       " 'secret',\n",
       " 'service',\n",
       " 'alive,',\n",
       " 'Bond',\n",
       " 'peels',\n",
       " 'back',\n",
       " 'the',\n",
       " 'layers',\n",
       " 'of',\n",
       " 'deceit',\n",
       " 'to',\n",
       " 'reveal',\n",
       " 'the',\n",
       " 'terrible',\n",
       " 'truth',\n",
       " 'behind',\n",
       " 'SPECTRE.',\n",
       " 'Action',\n",
       " 'Adventure',\n",
       " 'Crime',\n",
       " 'spy',\n",
       " 'basedonnovel',\n",
       " 'secretagent',\n",
       " 'sequel',\n",
       " 'mi6',\n",
       " 'britishsecretservice',\n",
       " 'unitedkingdom',\n",
       " 'DanielCraig',\n",
       " 'ChristophWaltz',\n",
       " 'LéaSeydoux',\n",
       " 'SamMendes']"
      ]
     },
     "execution_count": 19,
     "metadata": {},
     "output_type": "execute_result"
    }
   ],
   "source": [
    "movies.iloc[2]['tags']"
   ]
  },
  {
   "cell_type": "markdown",
   "metadata": {},
   "source": [
    "Convert to str, and then convert to lowercase"
   ]
  },
  {
   "cell_type": "code",
   "execution_count": 20,
   "metadata": {},
   "outputs": [
    {
     "data": {
      "text/html": [
       "<div>\n",
       "<style scoped>\n",
       "    .dataframe tbody tr th:only-of-type {\n",
       "        vertical-align: middle;\n",
       "    }\n",
       "\n",
       "    .dataframe tbody tr th {\n",
       "        vertical-align: top;\n",
       "    }\n",
       "\n",
       "    .dataframe thead th {\n",
       "        text-align: right;\n",
       "    }\n",
       "</style>\n",
       "<table border=\"1\" class=\"dataframe\">\n",
       "  <thead>\n",
       "    <tr style=\"text-align: right;\">\n",
       "      <th></th>\n",
       "      <th>id</th>\n",
       "      <th>title</th>\n",
       "      <th>tags</th>\n",
       "    </tr>\n",
       "  </thead>\n",
       "  <tbody>\n",
       "    <tr>\n",
       "      <th>0</th>\n",
       "      <td>19995</td>\n",
       "      <td>Avatar</td>\n",
       "      <td>in the 22nd century, a paraplegic marine is di...</td>\n",
       "    </tr>\n",
       "    <tr>\n",
       "      <th>1</th>\n",
       "      <td>285</td>\n",
       "      <td>Pirates of the Caribbean: At World's End</td>\n",
       "      <td>captain barbossa, long believed to be dead, ha...</td>\n",
       "    </tr>\n",
       "    <tr>\n",
       "      <th>2</th>\n",
       "      <td>206647</td>\n",
       "      <td>Spectre</td>\n",
       "      <td>a cryptic message from bond’s past sends him o...</td>\n",
       "    </tr>\n",
       "  </tbody>\n",
       "</table>\n",
       "</div>"
      ],
      "text/plain": [
       "       id                                     title  \\\n",
       "0   19995                                    Avatar   \n",
       "1     285  Pirates of the Caribbean: At World's End   \n",
       "2  206647                                   Spectre   \n",
       "\n",
       "                                                tags  \n",
       "0  in the 22nd century, a paraplegic marine is di...  \n",
       "1  captain barbossa, long believed to be dead, ha...  \n",
       "2  a cryptic message from bond’s past sends him o...  "
      ]
     },
     "execution_count": 20,
     "metadata": {},
     "output_type": "execute_result"
    }
   ],
   "source": [
    "# Convert to one long string\n",
    "movies['tags'] = movies['tags'].apply(lambda x: \" \".join(x))\n",
    "\n",
    "# Convert to lowercase\n",
    "movies['tags'] = movies['tags'].apply(lambda x: x.lower())\n",
    "\n",
    "movies.head(3)"
   ]
  },
  {
   "cell_type": "code",
   "execution_count": 21,
   "metadata": {},
   "outputs": [
    {
     "data": {
      "text/plain": [
       "'in the 22nd century, a paraplegic marine is dispatched to the moon pandora on a unique mission, but becomes torn between following orders and protecting an alien civilization. action adventure fantasy sciencefiction cultureclash future spacewar spacecolony society spacetravel futuristic romance space alien tribe alienplanet cgi marine soldier battle loveaffair antiwar powerrelations mindandsoul 3d samworthington zoesaldana sigourneyweaver jamescameron'"
      ]
     },
     "execution_count": 21,
     "metadata": {},
     "output_type": "execute_result"
    }
   ],
   "source": [
    "# Check one entry just to be sure\n",
    "movies.iloc[0]['tags']"
   ]
  },
  {
   "cell_type": "markdown",
   "metadata": {},
   "source": [
    "Checkpoint - Part 1"
   ]
  },
  {
   "cell_type": "code",
   "execution_count": 22,
   "metadata": {},
   "outputs": [],
   "source": [
    "movies.to_feather('part_one_checkpoint.feather')"
   ]
  },
  {
   "cell_type": "markdown",
   "metadata": {},
   "source": [
    "# Part 2: Core NLP"
   ]
  },
  {
   "cell_type": "code",
   "execution_count": 3,
   "metadata": {},
   "outputs": [
    {
     "data": {
      "text/html": [
       "<div>\n",
       "<style scoped>\n",
       "    .dataframe tbody tr th:only-of-type {\n",
       "        vertical-align: middle;\n",
       "    }\n",
       "\n",
       "    .dataframe tbody tr th {\n",
       "        vertical-align: top;\n",
       "    }\n",
       "\n",
       "    .dataframe thead th {\n",
       "        text-align: right;\n",
       "    }\n",
       "</style>\n",
       "<table border=\"1\" class=\"dataframe\">\n",
       "  <thead>\n",
       "    <tr style=\"text-align: right;\">\n",
       "      <th></th>\n",
       "      <th>id</th>\n",
       "      <th>title</th>\n",
       "      <th>tags</th>\n",
       "    </tr>\n",
       "  </thead>\n",
       "  <tbody>\n",
       "    <tr>\n",
       "      <th>0</th>\n",
       "      <td>19995</td>\n",
       "      <td>Avatar</td>\n",
       "      <td>in the 22nd century, a paraplegic marine is di...</td>\n",
       "    </tr>\n",
       "    <tr>\n",
       "      <th>1</th>\n",
       "      <td>285</td>\n",
       "      <td>Pirates of the Caribbean: At World's End</td>\n",
       "      <td>captain barbossa, long believed to be dead, ha...</td>\n",
       "    </tr>\n",
       "    <tr>\n",
       "      <th>2</th>\n",
       "      <td>206647</td>\n",
       "      <td>Spectre</td>\n",
       "      <td>a cryptic message from bond’s past sends him o...</td>\n",
       "    </tr>\n",
       "  </tbody>\n",
       "</table>\n",
       "</div>"
      ],
      "text/plain": [
       "       id                                     title  \\\n",
       "0   19995                                    Avatar   \n",
       "1     285  Pirates of the Caribbean: At World's End   \n",
       "2  206647                                   Spectre   \n",
       "\n",
       "                                                tags  \n",
       "0  in the 22nd century, a paraplegic marine is di...  \n",
       "1  captain barbossa, long believed to be dead, ha...  \n",
       "2  a cryptic message from bond’s past sends him o...  "
      ]
     },
     "execution_count": 3,
     "metadata": {},
     "output_type": "execute_result"
    }
   ],
   "source": [
    "movies = pd.read_feather('part_one_checkpoint.feather')\n",
    "movies.head(3)"
   ]
  },
  {
   "cell_type": "code",
   "execution_count": 4,
   "metadata": {},
   "outputs": [
    {
     "data": {
      "text/plain": [
       "(4800, 3)"
      ]
     },
     "execution_count": 4,
     "metadata": {},
     "output_type": "execute_result"
    }
   ],
   "source": [
    "movies.shape"
   ]
  },
  {
   "cell_type": "code",
   "execution_count": 5,
   "metadata": {},
   "outputs": [],
   "source": [
    "import nltk\n",
    "from nltk.stem import PorterStemmer"
   ]
  },
  {
   "cell_type": "markdown",
   "metadata": {},
   "source": [
    "Stem all words"
   ]
  },
  {
   "cell_type": "code",
   "execution_count": 6,
   "metadata": {},
   "outputs": [],
   "source": [
    "ps = PorterStemmer()"
   ]
  },
  {
   "cell_type": "code",
   "execution_count": 7,
   "metadata": {},
   "outputs": [
    {
     "data": {
      "text/plain": [
       "'in the 22nd century, a parapleg marin is dispatch to the moon pandora on a uniqu mission, but becom torn between follow order and protect an alien civilization. action adventur fantasi sciencefict cultureclash futur spacewar spacecoloni societi spacetravel futurist romanc space alien tribe alienplanet cgi marin soldier battl loveaffair antiwar powerrel mindandsoul 3d samworthington zoesaldana sigourneyweav jamescameron'"
      ]
     },
     "execution_count": 7,
     "metadata": {},
     "output_type": "execute_result"
    }
   ],
   "source": [
    "movies['tags'] = movies['tags'].apply(lambda sent: \" \".join([ps.stem(word) for word in sent.split()]))\n",
    "\n",
    "movies.iloc[0]['tags']"
   ]
  },
  {
   "cell_type": "markdown",
   "metadata": {},
   "source": [
    "That worked just as expected"
   ]
  },
  {
   "cell_type": "code",
   "execution_count": 8,
   "metadata": {},
   "outputs": [],
   "source": [
    "from sklearn.feature_extraction.text import CountVectorizer\n",
    "cv = CountVectorizer(max_features=5000, stop_words='english')   # max_features ensures that the vectorizer only considers the first 5000 unique words (features)"
   ]
  },
  {
   "cell_type": "code",
   "execution_count": 9,
   "metadata": {},
   "outputs": [
    {
     "data": {
      "text/plain": [
       "array([[0, 0, 0, ..., 0, 0, 0],\n",
       "       [0, 0, 0, ..., 0, 0, 0],\n",
       "       [0, 0, 0, ..., 0, 0, 0],\n",
       "       ...,\n",
       "       [0, 0, 0, ..., 0, 0, 0],\n",
       "       [0, 0, 0, ..., 0, 0, 0],\n",
       "       [0, 0, 0, ..., 0, 0, 0]], dtype=int64)"
      ]
     },
     "execution_count": 9,
     "metadata": {},
     "output_type": "execute_result"
    }
   ],
   "source": [
    "vector = cv.fit_transform(movies['tags']).toarray()\n",
    "vector"
   ]
  },
  {
   "cell_type": "code",
   "execution_count": 10,
   "metadata": {},
   "outputs": [
    {
     "data": {
      "text/plain": [
       "(4800, 5000)"
      ]
     },
     "execution_count": 10,
     "metadata": {},
     "output_type": "execute_result"
    }
   ],
   "source": [
    "vector.shape"
   ]
  },
  {
   "cell_type": "code",
   "execution_count": 11,
   "metadata": {},
   "outputs": [
    {
     "data": {
      "text/plain": [
       "array([0, 0, 0, 0, 0, 0, 1, 0, 0, 0, 0, 0, 0, 0, 0, 0, 0, 0, 0, 0, 0, 0,\n",
       "       0, 0, 0, 0, 0, 0, 0, 0, 0, 0, 0, 0, 0, 0, 0, 0, 0, 0, 0, 0, 0, 0,\n",
       "       0, 0, 0, 0, 0, 0, 0, 0, 0, 0, 0, 0, 0, 2, 0, 0, 1, 0, 0, 0, 0, 0,\n",
       "       0, 0, 0, 0, 0, 0, 0, 0, 0, 0, 0, 0, 0, 0, 0, 0, 0, 0, 0, 0, 0, 0,\n",
       "       0, 0, 0, 0, 0, 0, 0, 0, 0, 0, 0, 0], dtype=int64)"
      ]
     },
     "execution_count": 11,
     "metadata": {},
     "output_type": "execute_result"
    }
   ],
   "source": [
    "vector[0][100:200]"
   ]
  },
  {
   "cell_type": "code",
   "execution_count": 12,
   "metadata": {},
   "outputs": [
    {
     "data": {
      "text/plain": [
       "array([[1.        , 0.08346223, 0.0860309 , ..., 0.04499213, 0.        ,\n",
       "        0.        ],\n",
       "       [0.08346223, 1.        , 0.06063391, ..., 0.02378257, 0.        ,\n",
       "        0.02615329],\n",
       "       [0.0860309 , 0.06063391, 1.        , ..., 0.02451452, 0.        ,\n",
       "        0.        ],\n",
       "       ...,\n",
       "       [0.04499213, 0.02378257, 0.02451452, ..., 1.        , 0.03962144,\n",
       "        0.04229549],\n",
       "       [0.        , 0.        , 0.        , ..., 0.03962144, 1.        ,\n",
       "        0.08714204],\n",
       "       [0.        , 0.02615329, 0.        , ..., 0.04229549, 0.08714204,\n",
       "        1.        ]])"
      ]
     },
     "execution_count": 12,
     "metadata": {},
     "output_type": "execute_result"
    }
   ],
   "source": [
    "from sklearn.metrics.pairwise import cosine_similarity\n",
    "similarity = cosine_similarity(vector)\n",
    "similarity"
   ]
  },
  {
   "cell_type": "markdown",
   "metadata": {},
   "source": [
    "This is a square matrix btw, all diagonal elements are 1 because the cosim of a word with itself is 1"
   ]
  },
  {
   "cell_type": "code",
   "execution_count": 13,
   "metadata": {},
   "outputs": [
    {
     "data": {
      "text/plain": [
       "(4800, 4800)"
      ]
     },
     "execution_count": 13,
     "metadata": {},
     "output_type": "execute_result"
    }
   ],
   "source": [
    "similarity.shape"
   ]
  },
  {
   "cell_type": "code",
   "execution_count": 19,
   "metadata": {},
   "outputs": [
    {
     "data": {
      "text/plain": [
       "array([1.        , 0.08346223, 0.0860309 , ..., 0.04499213, 0.        ,\n",
       "       0.        ])"
      ]
     },
     "execution_count": 19,
     "metadata": {},
     "output_type": "execute_result"
    }
   ],
   "source": [
    "similarity[0]"
   ]
  },
  {
   "cell_type": "markdown",
   "metadata": {},
   "source": [
    "Build a recommendation function, the star of our project"
   ]
  },
  {
   "cell_type": "code",
   "execution_count": 14,
   "metadata": {},
   "outputs": [
    {
     "data": {
      "text/plain": [
       "\"\\nCode below is the recommender fucntion without using a function. So it is easier to debug and understand\\n\\nYou will be recommended movies like 'movie_name'\\n\""
      ]
     },
     "execution_count": 14,
     "metadata": {},
     "output_type": "execute_result"
    }
   ],
   "source": [
    "'''\n",
    "Code below is the recommender fucntion without using a function. So it is easier to debug and understand\n",
    "\n",
    "You will be recommended movies like 'movie_name'\n",
    "'''\n",
    "# movie_name = 'Transformers'\n",
    "# idx = movies[movies['title']==movie_name].index[0]\n",
    "# # got index of Batman\n",
    "\n",
    "# distances = sorted(list(enumerate(similarity[idx])), reverse=True, key=lambda x: x[1])\n",
    "# for i in distances[1:6]:\n",
    "#     print(movies.iloc[i[0]]['title'])"
   ]
  },
  {
   "cell_type": "code",
   "execution_count": 15,
   "metadata": {},
   "outputs": [],
   "source": [
    "def recommend_similar(movie_name):\n",
    "    reco_list = []\n",
    "    \n",
    "    original_idx_in_movies = movies[movies['title']==movie_name].index[0]\n",
    "    distances = sorted(enumerate(similarity[original_idx_in_movies]), reverse=True, key=lambda x: x[1])\n",
    "    print(distances)\n",
    "\n",
    "    for pair in distances[1:6]:\n",
    "        reco_idx = pair[0]\n",
    "        reco_list.append(movies.iloc[reco_idx]['title'])\n",
    "\n",
    "    return reco_list"
   ]
  },
  {
   "cell_type": "code",
   "execution_count": 16,
   "metadata": {},
   "outputs": [
    {
     "name": "stdout",
     "output_type": "stream",
     "text": [
      "[(6, 1.0000000000000007), (2309, 0.20640627484613444), (269, 0.20380986614602725), (255, 0.19138975058773822), (1676, 0.18605210188381271), (42, 0.17902871850985827), (1695, 0.1771924779845835), (1594, 0.16545563033895141), (67, 0.16537964611894462), (251, 0.16012815380508716), (506, 0.15866576560438353), (391, 0.15860619520032995), (896, 0.15626907697949846), (1984, 0.1554857684028483), (124, 0.15480470613460084), (917, 0.1534851533787301), (1426, 0.15191090506255), (55, 0.1515980089423659), (2396, 0.14890247043403096), (194, 0.14884168150705018), (465, 0.14617633655117157), (4049, 0.14617633655117157), (130, 0.14470719035407653), (429, 0.14470719035407653), (182, 0.14322297480788662), (3447, 0.14322297480788662), (3881, 0.14322297480788662), (34, 0.1432229748078866), (899, 0.1427382933000825), (254, 0.14175398238766682), (3900, 0.14175398238766682), (390, 0.14084763640246842), (812, 0.13953907641285954), (704, 0.13894669485837496), (1587, 0.13846153846153847), (358, 0.13819603191146365), (2272, 0.1376041832307563), (2680, 0.13728129459672883), (734, 0.13629984873919712), (1620, 0.1358732440973515), (2911, 0.13559679773956046), (509, 0.13503191561115557), (4257, 0.13397282541141675), (2590, 0.13379872160113454), (2991, 0.1336637758062339), (565, 0.13259870882635919), (3524, 0.13259870882635919), (2294, 0.13240583787506852), (459, 0.13222147133698628), (374, 0.13065450865639683), (810, 0.12955005512625917), (578, 0.12890067732709792), (539, 0.1276306889434551), (1029, 0.1276306889434551), (106, 0.12704816336085684), (403, 0.12704816336085684), (525, 0.1266462785440895), (1656, 0.12659242088545836), (352, 0.1257941804066302), (4103, 0.1257941804066302), (1432, 0.12403473458920847), (393, 0.12234710854292788), (546, 0.12162606385263), (3128, 0.12162606385263), (558, 0.12033136751923737), (3058, 0.12033136751923737), (2639, 0.11935247900657217), (874, 0.11766968108291043), (4618, 0.11766968108291043), (154, 0.11720180773462387), (504, 0.11720180773462387), (2114, 0.11720180773462387), (1055, 0.11720180773462385), (1702, 0.11707388140099273), (1101, 0.11694106924093725), (430, 0.11622582663390899), (538, 0.1151633599262197), (742, 0.11516335992621969), (1652, 0.11516335992621969), (605, 0.11483385035264293), (1290, 0.11483385035264293), (3517, 0.11457837984630925), (950, 0.11382207864489444), (713, 0.11349071817863016), (2389, 0.11349071817863016), (934, 0.11322770341445958), (2247, 0.11219363880101486), (4165, 0.11219363880101486), (2116, 0.11138647983852826), (3949, 0.11138647983852826), (833, 0.11094003924504584), (2920, 0.11094003924504584), (2973, 0.11026698931685078), (784, 0.10972754339391828), (86, 0.108553953037791), (399, 0.108553953037791), (435, 0.10826639239215337), (1470, 0.10826639239215337), (2731, 0.10826639239215337), (326, 0.10795837927188265), (1471, 0.10700007523445434), (3295, 0.1063154867907501), (3402, 0.1063154867907501), (328, 0.10482848367219183), (1521, 0.10482848367219183), (286, 0.10452419135052178), (3015, 0.10421002114378122), (3643, 0.10421002114378122), (318, 0.10377490433255418), (1452, 0.10345212002237435), (1880, 0.10345212002237435), (2618, 0.10336227882434039), (4048, 0.10336227882434039), (3730, 0.10320313742306723), (66, 0.10320313742306722), (555, 0.10320313742306722), (4557, 0.10320313742306722), (160, 0.10234564842350403), (528, 0.10222488655439783), (3757, 0.10195592378577323), (488, 0.10180556207612446), (73, 0.10127393670836668), (237, 0.10127393670836668), (325, 0.10127393670836668), (604, 0.10127393670836668), (1277, 0.10127393670836668), (2238, 0.10127393670836668), (1249, 0.1009312151274827), (692, 0.10034904120085089), (1983, 0.0994490316197694), (4510, 0.0994490316197694), (698, 0.09944903161976938), (196, 0.09930726528736966), (744, 0.09922778767136678), (2182, 0.09922778767136678), (3579, 0.09922778767136678), (4466, 0.09922778767136678), (2993, 0.09866902717204078), (234, 0.09857281161802886), (447, 0.09857281161802886), (1761, 0.09857281161802886), (187, 0.09805806756909202), (2465, 0.09805806756909202), (3406, 0.09805806756909202), (686, 0.097300851082104), (1041, 0.097300851082104), (2965, 0.097300851082104), (1508, 0.09685485552825748), (3037, 0.09685485552825748), (381, 0.09607689228305229), (1856, 0.09607689228305229), (144, 0.09569487529386911), (330, 0.09569487529386911), (2432, 0.09569487529386911), (54, 0.09548198320525773), (359, 0.09548198320525773), (2232, 0.09548198320525773), (2780, 0.09548198320525773), (4657, 0.09548198320525773), (2207, 0.09528612252064263), (3449, 0.09528612252064263), (514, 0.0945755984821918), (550, 0.0945755984821918), (1080, 0.0945755984821918), (3575, 0.0945755984821918), (4638, 0.0945755984821918), (90, 0.09376144618769909), (348, 0.09376144618769909), (615, 0.09376144618769909), (1965, 0.09376144618769909), (3235, 0.09376144618769909), (4189, 0.09376144618769909), (339, 0.09349469900084573), (410, 0.09349469900084573), (614, 0.09349469900084573), (1361, 0.09349469900084573), (3280, 0.09349469900084573), (1438, 0.09302605094190636), (2347, 0.09302605094190636), (2343, 0.09293533804764306), (88, 0.09213068794097576), (533, 0.09213068794097576), (3190, 0.09213068794097576), (2625, 0.0914396194949319), (4056, 0.0914396194949319), (414, 0.09058216273156766), (1240, 0.09058216273156766), (2054, 0.09058216273156766), (2544, 0.09058216273156766), (2804, 0.09058216273156766), (4677, 0.09058216273156766), (221, 0.0904616275314925), (569, 0.0904616275314925), (674, 0.0904616275314925), (719, 0.09024852563942803), (1431, 0.09024852563942803), (3714, 0.09024852563942803), (4003, 0.09024852563942803), (1653, 0.08959216401473295), (225, 0.08951435925492914), (364, 0.08951435925492914), (141, 0.0891091838708226), (931, 0.0891091838708226), (1434, 0.0891091838708226), (2609, 0.0891091838708226), (1108, 0.08861469461982086), (173, 0.08859623899229176), (1930, 0.08859623899229176), (289, 0.08770580193070293), (1950, 0.08770580193070293), (4494, 0.08770580193070293), (294, 0.08770580193070292), (385, 0.08770580193070292), (1268, 0.08770580193070292), (3000, 0.08770580193070292), (4630, 0.08770580193070292), (464, 0.08684168428648435), (1412, 0.08684168428648435), (146, 0.08682431421244592), (1062, 0.08636670341750612), (1583, 0.08636670341750612), (4769, 0.08636670341750612), (13, 0.08600261451922268), (1555, 0.08600261451922268), (2057, 0.08600261451922268), (256, 0.08536655898367082), (3072, 0.08536655898367082), (3285, 0.08536655898367082), (4536, 0.08536655898367082), (2464, 0.0851874054619982), (87, 0.0850871259623034), (152, 0.0850871259623034), (741, 0.0850871259623034), (837, 0.0850871259623034), (1682, 0.0850871259623034), (3773, 0.0850871259623034), (2184, 0.08481041912882635), (1777, 0.08439494725697223), (1669, 0.0843312289034136), (1481, 0.08426500884694862), (283, 0.08386278693775347), (288, 0.08386278693775347), (3135, 0.08386278693775347), (179, 0.08320502943378438), (858, 0.08320502943378438), (2293, 0.08320502943378438), (4457, 0.08320502943378438), (1683, 0.08320502943378437), (458, 0.0828741930164745), (1527, 0.08287419301647449), (1152, 0.08214400968169071), (2043, 0.08156473902861859), (99, 0.08156473902861858), (164, 0.08156473902861858), (472, 0.08156473902861858), (807, 0.08156473902861858), (1228, 0.08156473902861858), (1733, 0.08156473902861858), (3724, 0.08143279274805704), (258, 0.08119979429411503), (1404, 0.08119979429411503), (2439, 0.08119979429411503), (2915, 0.08119979429411503), (4438, 0.08119979429411503), (305, 0.08073973509982289), (3990, 0.08073973509982289), (479, 0.0807207352795575), (268, 0.08048436365855338), (2292, 0.08048436365855338), (591, 0.08006407690254358), (3293, 0.08006407690254358), (3662, 0.07944581222989575), (1410, 0.07944581222989573), (1987, 0.07944581222989573), (3411, 0.07944581222989573), (1745, 0.07940510210053553), (4656, 0.07940510210053553), (177, 0.07933288280219176), (1233, 0.07933288280219176), (1514, 0.07933288280219176), (1519, 0.07933288280219176), (1675, 0.07933288280219176), (3050, 0.07933288280219176), (4284, 0.07933288280219176), (40, 0.07844645405527362), (563, 0.07844645405527362), (1445, 0.07844645405527362), (2351, 0.07844645405527362), (3032, 0.07844645405527362), (4733, 0.07844645405527362), (3207, 0.07820245205188808), (2185, 0.07813453848974923), (151, 0.07758909001678076), (476, 0.07758909001678076), (494, 0.07758909001678076), (1059, 0.07758909001678076), (1340, 0.07758909001678076), (2212, 0.07758909001678076), (4636, 0.07758909001678076), (235, 0.07748388442260598), (631, 0.07748388442260598), (659, 0.07748388442260598), (689, 0.07748388442260598), (766, 0.07748388442260598), (875, 0.07748388442260598), (2489, 0.07748388442260598), (3605, 0.07748388442260598), (118, 0.07717081694263093), (77, 0.0770441203920039), (168, 0.07655590023509529), (184, 0.07655590023509529), (503, 0.07655590023509529), (754, 0.07655590023509529), (1045, 0.07655590023509529), (1195, 0.07655590023509529), (2444, 0.07655590023509529), (3059, 0.07655590023509529), (3818, 0.07655590023509529), (3895, 0.07655590023509529), (2971, 0.075955452531275), (2270, 0.07566047878575344), (2461, 0.07566047878575344), (178, 0.07479575920067658), (1617, 0.07479575920067658), (1795, 0.07479575920067658), (2050, 0.07479575920067658), (2231, 0.07479575920067658), (4522, 0.07479575920067658), (4544, 0.07479575920067658), (4099, 0.07466013667894413), (1198, 0.07442084075352509), (2067, 0.07442084075352509), (3553, 0.07442084075352509), (4476, 0.07442084075352509), (2256, 0.07412493166611012), (57, 0.07396002616336389), (261, 0.07396002616336389), (324, 0.07396002616336389), (460, 0.07396002616336389), (637, 0.07396002616336389), (1294, 0.07396002616336389), (3927, 0.07396002616336389), (1423, 0.07368761261836122), (3578, 0.07360107399470765), (76, 0.07315169559594552), (566, 0.07315169559594552), (942, 0.07315169559594552), (1825, 0.07315169559594552), (2338, 0.07315169559594552), (2898, 0.07315169559594552), (791, 0.072975638311578), (1417, 0.072975638311578), (2556, 0.072975638311578), (3018, 0.072975638311578), (3666, 0.072975638311578), (3939, 0.072975638311578), (4265, 0.072975638311578), (387, 0.07236930202519401), (587, 0.07236930202519401), (1142, 0.07236930202519401), (1220, 0.07236930202519401), (1551, 0.07236930202519401), (1857, 0.07236930202519401), (120, 0.07161148740394331), (1354, 0.07161148740394331), (3713, 0.07161148740394331), (4007, 0.07161148740394331), (4399, 0.07161148740394331), (202, 0.0716114874039433), (276, 0.0716114874039433), (660, 0.0716114874039433), (769, 0.0716114874039433), (920, 0.0716114874039433), (1441, 0.0716114874039433), (1680, 0.0716114874039433), (2390, 0.0716114874039433), (3011, 0.0716114874039433), (301, 0.07161148740394328), (4780, 0.07113879915305901), (743, 0.07087699119383341), (1095, 0.07087699119383341), (1451, 0.07087699119383341), (2471, 0.07087699119383341), (2776, 0.07087699119383341), (2728, 0.07067534927402196), (3612, 0.07067534927402196), (452, 0.07032108464077431), (562, 0.07032108464077431), (977, 0.07032108464077431), (1436, 0.07032108464077431), (1511, 0.07032108464077431), (1837, 0.07032108464077431), (1970, 0.07032108464077431), (2104, 0.07032108464077431), (2119, 0.07032108464077431), (2227, 0.07032108464077431), (3371, 0.07032108464077431), (3534, 0.07032108464077431), (4204, 0.07032108464077431), (4646, 0.07032108464077431), (81, 0.07022084070579052), (722, 0.07016464154456234), (1951, 0.07016464154456234), (3205, 0.07016464154456234), (3985, 0.07016464154456234), (732, 0.06947334742918748), (1078, 0.06947334742918748), (2574, 0.06947334742918748), (4532, 0.06947334742918748), (3944, 0.06939779183594884), (137, 0.06909801595573183), (167, 0.06909801595573181), (972, 0.06909801595573181), (1214, 0.06909801595573181), (1428, 0.06909801595573181), (1463, 0.06909801595573181), (3189, 0.06909801595573181), (3398, 0.06909801595573181), (3992, 0.06909801595573181), (1698, 0.06880209161537815), (2669, 0.06880209161537815), (3358, 0.06880209161537815), (3872, 0.06880209161537815), (4347, 0.06880209161537815), (4122, 0.0682214728663323), (777, 0.06814992436959856), (1671, 0.06814992436959856), (1900, 0.06814992436959856), (2366, 0.06814992436959856), (195, 0.06793662204867575), (564, 0.06793662204867575), (597, 0.06793662204867575), (986, 0.06793662204867575), (1362, 0.06793662204867575), (1562, 0.06793662204867575), (1580, 0.06793662204867575), (2404, 0.06793662204867575), (2495, 0.06793662204867575), (2922, 0.06793662204867575), (2996, 0.06793662204867575), (4667, 0.06793662204867575), (169, 0.06751595780557779), (180, 0.06751595780557779), (1670, 0.06751595780557779), (1868, 0.06751595780557779), (2145, 0.06751595780557779), (2734, 0.06751595780557779), (4375, 0.06751595780557779), (3012, 0.06689936080056727), (122, 0.06683188790311695), (678, 0.06683188790311695), (1246, 0.06683188790311695), (1398, 0.06683188790311695), (1707, 0.06683188790311695), (2224, 0.06683188790311695), (2876, 0.06683188790311695), (3272, 0.06683188790311695), (3309, 0.06683188790311695), (143, 0.06629935441317959), (3149, 0.06629935441317959), (3270, 0.06629935441317959), (3815, 0.06629935441317959), (3942, 0.06629935441317959), (3959, 0.06629935441317959), (4045, 0.06629935441317959), (275, 0.06577935144802718), (413, 0.06577935144802718), (441, 0.06577935144802718), (1425, 0.06577935144802718), (2800, 0.06577935144802718), (3130, 0.06577935144802718), (4290, 0.06577935144802718), (1753, 0.06571520774535257), (2466, 0.06571520774535257), (1727, 0.06514623419844563), (2217, 0.06514623419844563), (2485, 0.06514623419844563), (4474, 0.06514623419844563), (50, 0.06477502756312958), (142, 0.06477502756312958), (516, 0.06477502756312958), (894, 0.06477502756312958), (1238, 0.06477502756312958), (1744, 0.06477502756312958), (2399, 0.06477502756312958), (2810, 0.06477502756312958), (3544, 0.06477502756312958), (3853, 0.06477502756312958), (4400, 0.06477502756312958), (48, 0.06459178807985831), (190, 0.06459178807985831), (467, 0.06459178807985831), (1456, 0.06459178807985831), (1457, 0.06459178807985831), (1541, 0.06459178807985831), (4745, 0.06459178807985831), (4792, 0.06459178807985831), (3044, 0.06405126152203486), (4478, 0.06405126152203486), (4600, 0.06405126152203486), (4731, 0.06405126152203486), (121, 0.06381534447172756), (303, 0.06381534447172756), (993, 0.06381534447172756), (1550, 0.06381534447172756), (2200, 0.06381534447172756), (2570, 0.06381534447172756), (2820, 0.06381534447172756), (3525, 0.06381534447172756), (3946, 0.06381534447172756), (2380, 0.06362847629757779), (406, 0.06352408168042842), (1199, 0.06352408168042842), (313, 0.0628970902033151), (1977, 0.0628970902033151), (2438, 0.0628970902033151), (2653, 0.0628970902033151), (2761, 0.0628970902033151), (3296, 0.0628970902033151), (3521, 0.0628970902033151), (3754, 0.0628970902033151), (4578, 0.0628970902033151), (63, 0.06250763079179938), (2826, 0.06232979933389715), (224, 0.062017367294604234), (489, 0.062017367294604234), (603, 0.062017367294604234), (805, 0.062017367294604234), (866, 0.062017367294604234), (1196, 0.062017367294604234), (1513, 0.062017367294604234), (1658, 0.062017367294604234), (2037, 0.062017367294604234), (2055, 0.062017367294604234), (2326, 0.062017367294604234), (2528, 0.062017367294604234), (2665, 0.062017367294604234), (2679, 0.062017367294604234), (3276, 0.062017367294604234), (3320, 0.062017367294604234), (3420, 0.062017367294604234), (3522, 0.062017367294604234), (3574, 0.062017367294604234), (4571, 0.062017367294604234), (4635, 0.062017367294604234), (4736, 0.062017367294604234), (982, 0.061709586897043874), (139, 0.06153846153846155), (1561, 0.06153846153846155), (4689, 0.06153846153846155), (1292, 0.06117355427146393), (1479, 0.06117355427146393), (3669, 0.06117355427146393), (51, 0.06107048165524593), (103, 0.06107048165524593), (4147, 0.06107048165524593), (4500, 0.06107048165524593), (1892, 0.060613018422581565), (2017, 0.060613018422581565), (2543, 0.060613018422581565), (131, 0.060363272743915036), (543, 0.060363272743915036), (1382, 0.060363272743915036), (1614, 0.060363272743915036), (2218, 0.060363272743915036), (4127, 0.060363272743915036), (4253, 0.060363272743915036), (763, 0.060165683759618685), (774, 0.060165683759618685), (776, 0.060165683759618685), (1709, 0.060165683759618685), (2772, 0.060165683759618685), (4033, 0.060165683759618685), (285, 0.059728109343155304), (1420, 0.059728109343155304), (832, 0.0595843591724218), (879, 0.0595843591724218), (922, 0.0595843591724218), (926, 0.0595843591724218), (1231, 0.0595843591724218), (1765, 0.0595843591724218), (2131, 0.0595843591724218), (3086, 0.0595843591724218), (3097, 0.0595843591724218), (4453, 0.0595843591724218), (2042, 0.0592999453328881), (3519, 0.0592999453328881), (4650, 0.0592999453328881), (2162, 0.059131239598908265), (343, 0.058880859195766126), (4424, 0.058880859195766126), (96, 0.05883484054145521), (138, 0.05883484054145521), (1033, 0.05883484054145521), (1083, 0.05883484054145521), (1293, 0.05883484054145521), (1734, 0.05883484054145521), (3268, 0.05883484054145521), (4091, 0.05883484054145521), (4261, 0.05883484054145521), (189, 0.058470534620468625), (218, 0.058470534620468625), (1285, 0.058470534620468625), (1496, 0.058470534620468625), (2159, 0.058470534620468625), (2615, 0.058470534620468625), (3911, 0.058470534620468625), (4551, 0.058470534620468625), (78, 0.058112913316954486), (163, 0.058112913316954486), (370, 0.058112913316954486), (508, 0.058112913316954486), (952, 0.058112913316954486), (1257, 0.058112913316954486), (1287, 0.058112913316954486), (2350, 0.058112913316954486), (2371, 0.058112913316954486), (2443, 0.058112913316954486), (4268, 0.058112913316954486), (4552, 0.05811291331695448), (1389, 0.058068670513954146), (730, 0.05783149319662403), (311, 0.057416925176321465), (1363, 0.057416925176321465), (2402, 0.057416925176321465), (2954, 0.057416925176321465), (3221, 0.057416925176321465), (3327, 0.057416925176321465), (4350, 0.057416925176321465), (2250, 0.057289189923154626), (3372, 0.05709161420029027), (205, 0.05691103932244722), (992, 0.05691103932244722), (1018, 0.05691103932244722), (1320, 0.05691103932244722), (1696, 0.05691103932244722), (1764, 0.05691103932244722), (2602, 0.05691103932244722), (3562, 0.05691103932244722), (4567, 0.05691103932244722), (4606, 0.05691103932244722), (204, 0.05674535908931508), (291, 0.05674535908931508), (394, 0.05674535908931508), (2243, 0.05674535908931508), (848, 0.05654027941921756), (3476, 0.05654027941921756), (3, 0.05617667256463242), (7, 0.05609681940050743), (191, 0.05609681940050743), (211, 0.05609681940050743), (453, 0.05609681940050743), (908, 0.05609681940050743), (1395, 0.05609681940050743), (1465, 0.05609681940050743), (1817, 0.05609681940050743), (2177, 0.05609681940050743), (2346, 0.05609681940050743), (2447, 0.05609681940050743), (3004, 0.05609681940050743), (3007, 0.05609681940050743), (3533, 0.05609681940050743), (4192, 0.05609681940050743), (127, 0.05581999167235562), (9, 0.05547001962252292), (522, 0.05547001962252292), (598, 0.05547001962252292), (728, 0.05547001962252292), (748, 0.05547001962252292), (797, 0.05547001962252292), (930, 0.05547001962252292), (1115, 0.05547001962252292), (1305, 0.05547001962252292), (1783, 0.05547001962252292), (2360, 0.05547001962252292), (2579, 0.05547001962252292), (2584, 0.05547001962252292), (2593, 0.05547001962252292), (2863, 0.05547001962252292), (3061, 0.05547001962252292), (3150, 0.05547001962252292), (3478, 0.05547001962252292), (3657, 0.05547001962252292), (3965, 0.05547001962252292), (4682, 0.05547001962252292), (89, 0.055031514565717074), (529, 0.054863771696959135), (933, 0.054863771696959135), (1058, 0.054863771696959135), (1339, 0.054863771696959135), (1932, 0.054863771696959135), (2235, 0.054863771696959135), (3188, 0.054863771696959135), (3194, 0.054863771696959135), (3459, 0.054863771696959135), (4076, 0.054863771696959135), (939, 0.05445832342080847), (4, 0.05427697651889551), (347, 0.05427697651889551), (481, 0.05427697651889551), (1642, 0.05427697651889551), (3239, 0.05427697651889551), (3606, 0.05427697651889551), (3611, 0.05427697651889551), (4354, 0.05427697651889551), (4602, 0.05427697651889551), (3186, 0.0542769765188955), (172, 0.054133196196076684), (418, 0.054133196196076684), (613, 0.054133196196076684), (1347, 0.054133196196076684), (1386, 0.054133196196076684), (1776, 0.054133196196076684), (1898, 0.054133196196076684), (2120, 0.054133196196076684), (2155, 0.054133196196076684), (2165, 0.054133196196076684), (2332, 0.054133196196076684), (2802, 0.054133196196076684), (2928, 0.054133196196076684), (2999, 0.054133196196076684), (3091, 0.054133196196076684), (3415, 0.054133196196076684), (3497, 0.054133196196076684), (3543, 0.054133196196076684), (4042, 0.054133196196076684), (136, 0.05370861555295749), (231, 0.05370861555295749), (834, 0.05370861555295749), (991, 0.05370861555295749), (1686, 0.05370861555295749), (2586, 0.05370861555295749), (243, 0.05315774339537506), (302, 0.05315774339537506), (377, 0.05315774339537506), (531, 0.05315774339537506), (886, 0.05315774339537506), (918, 0.05315774339537506), (1264, 0.05315774339537506), (1723, 0.05315774339537506), (2352, 0.05315774339537506), (3587, 0.05315774339537506), (56, 0.05288858853479451), (1324, 0.05288858853479451), (1368, 0.05288858853479451), (1942, 0.05288858853479451), (2527, 0.05288858853479451), (2595, 0.05288858853479451), (3202, 0.05288858853479451), (3819, 0.05288858853479451), (3832, 0.05288858853479451), (4013, 0.05288858853479451), (4125, 0.05288858853479451), (4164, 0.05288858853479451), (4763, 0.05288858853479451), (345, 0.052623481158421755), (1217, 0.052623481158421755), (2203, 0.052623481158421755), (4248, 0.052623481158421755), (4570, 0.052623481158421755), (3308, 0.05229763603684908), (3039, 0.05210501057189061), (3788, 0.05210501057189061), (3874, 0.05210501057189061), (4706, 0.05210501057189061), (44, 0.051726060011187174), (209, 0.051726060011187174), (308, 0.051726060011187174), (498, 0.051726060011187174), (668, 0.051726060011187174), (839, 0.051726060011187174), (1191, 0.051726060011187174), (1276, 0.051726060011187174), (1289, 0.051726060011187174), (1533, 0.051726060011187174), (1538, 0.051726060011187174), (1854, 0.051726060011187174), (2400, 0.051726060011187174), (2437, 0.051726060011187174), (3219, 0.051726060011187174), (3835, 0.051726060011187174), (3975, 0.051726060011187174), (4009, 0.051726060011187174), (4529, 0.051726060011187174), (4598, 0.051726060011187174), (58, 0.05160156871153361), (181, 0.05160156871153361), (1616, 0.05160156871153361), (2987, 0.05160156871153361), (3979, 0.05160156871153361), (4311, 0.05160156871153361), (4337, 0.05160156871153361), (1813, 0.051325938368630364), (4526, 0.051172824211752024), (1092, 0.051112443277198924), (1742, 0.051112443277198924), (2074, 0.051112443277198924), (2156, 0.051112443277198924), (35, 0.05063696835418334), (157, 0.05063696835418334), (228, 0.05063696835418334), (527, 0.05063696835418334), (618, 0.05063696835418334), (695, 0.05063696835418334), (1019, 0.05063696835418334), (1052, 0.05063696835418334), (1082, 0.05063696835418334), (1084, 0.05063696835418334), (1375, 0.05063696835418334), (1846, 0.05063696835418334), (2095, 0.05063696835418334), (2372, 0.05063696835418334), (2651, 0.05063696835418334), (2824, 0.05063696835418334), (3056, 0.05063696835418334), (3152, 0.05063696835418334), (3208, 0.05063696835418334), (3462, 0.05063696835418334), (3817, 0.05063696835418334), (4011, 0.05063696835418334), (4065, 0.05063696835418334), (4191, 0.05063696835418334), (4298, 0.05063696835418334), (4484, 0.05063696835418334), (4555, 0.05063696835418334), (4711, 0.05063696835418334), (396, 0.05017452060042545), (518, 0.05017452060042545), (4228, 0.04986383946711772), (113, 0.0497245158098847), (1274, 0.0497245158098847), (3489, 0.0497245158098847), (3841, 0.0497245158098847), (109, 0.04961389383568339), (216, 0.04961389383568339), (263, 0.04961389383568339), (368, 0.04961389383568339), (707, 0.04961389383568339), (772, 0.04961389383568339), (1073, 0.04961389383568339), (1153, 0.04961389383568339), (1480, 0.04961389383568339), (1760, 0.04961389383568339), (1798, 0.04961389383568339), (2025, 0.04961389383568339), (2061, 0.04961389383568339), (2264, 0.04961389383568339), (2303, 0.04961389383568339), (2304, 0.04961389383568339), (2914, 0.04961389383568339), (2927, 0.04961389383568339), (3176, 0.04961389383568339), (3331, 0.04961389383568339), (3369, 0.04961389383568339), (3894, 0.04961389383568339), (1121, 0.04928640580901443), (1453, 0.04928640580901443), (770, 0.04928640580901442), (2422, 0.04928640580901442), (2832, 0.04928640580901442), (2136, 0.04912507507890748), (170, 0.04885967564883423), (262, 0.04885967564883423), (471, 0.04885967564883423), (1592, 0.04885967564883423), (161, 0.048650425541052), (495, 0.048650425541052), (561, 0.048650425541052), (821, 0.048650425541052), (1216, 0.048650425541052), (1301, 0.048650425541052), (1848, 0.048650425541052), (2222, 0.048650425541052), (2509, 0.048650425541052), (3281, 0.048650425541052), (3834, 0.048650425541052), (3850, 0.048650425541052), (4267, 0.048650425541052), (4349, 0.048650425541052), (4355, 0.048650425541052), (4361, 0.048650425541052), (4660, 0.048650425541052), (1302, 0.04844384105989373), (1633, 0.04844384105989373), (4607, 0.04844384105989373), (4641, 0.04844384105989373), (820, 0.048418202613504206), (253, 0.048038446141526144), (1119, 0.048038446141526144), (3790, 0.047963561534592844), (4483, 0.047963561534592844), (94, 0.04774099160262887), (433, 0.04774099160262887), (625, 0.04774099160262887), (1093, 0.04774099160262887), (1155, 0.04774099160262887), (1789, 0.04774099160262887), (2507, 0.04774099160262887), (2525, 0.04774099160262887), (2745, 0.04774099160262887), (3158, 0.04774099160262887), (3701, 0.04774099160262887), (4325, 0.04774099160262887), (92, 0.047643061260321314), (573, 0.047643061260321314), (979, 0.047643061260321314), (1133, 0.0475214916279892), (107, 0.04725728113579319), (353, 0.04725728113579319), (1027, 0.04725728113579319), (4162, 0.04725728113579319), (219, 0.046880723093849545), (259, 0.046880723093849545), (404, 0.046880723093849545), (1049, 0.046880723093849545), (1089, 0.046880723093849545), (1144, 0.046880723093849545), (1573, 0.046880723093849545), (1578, 0.046880723093849545), (1601, 0.046880723093849545), (2110, 0.046880723093849545), (2121, 0.046880723093849545), (2441, 0.046880723093849545), (2532, 0.046880723093849545), (2739, 0.046880723093849545), (2865, 0.046880723093849545), (3080, 0.046880723093849545), (3118, 0.046880723093849545), (3763, 0.046880723093849545), (4100, 0.046880723093849545), (4314, 0.046880723093849545), (45, 0.04688072309384954), (1870, 0.04688072309384954), (2854, 0.04688072309384954), (4171, 0.04688072309384954), (4200, 0.04688072309384954), (38, 0.04651302547095318), (1503, 0.04651302547095318), (3266, 0.04651302547095318), (842, 0.04615384615384616), (1766, 0.04615384615384616), (1849, 0.04615384615384616), (3540, 0.04615384615384616), (356, 0.04606534397048788), (392, 0.04606534397048788), (400, 0.04606534397048788), (781, 0.04606534397048788), (1097, 0.04606534397048788), (1271, 0.04606534397048788), (1303, 0.04606534397048788), (1703, 0.04606534397048788), (1885, 0.04606534397048788), (2132, 0.04606534397048788), (2139, 0.04606534397048788), (2153, 0.04606534397048788), (2221, 0.04606534397048788), (2260, 0.04606534397048788), (2553, 0.04606534397048788), (2678, 0.04606534397048788), (3351, 0.04606534397048788), (3552, 0.04606534397048788), (3860, 0.04606534397048788), (4084, 0.04606534397048788), (4159, 0.04606534397048788), (4201, 0.04606534397048788), (4402, 0.04606534397048788), (4687, 0.04606534397048788), (1004, 0.04580286124143445), (1609, 0.04580286124143445), (3316, 0.04580286124143445), (4036, 0.04580286124143445), (299, 0.04545976381693617), (491, 0.04545976381693617), (1497, 0.04545976381693617), (1851, 0.04545976381693617), (8, 0.04529108136578383), (292, 0.04529108136578383), (293, 0.04529108136578383), (762, 0.04529108136578383), (1044, 0.04529108136578383), (1076, 0.04529108136578383), (1088, 0.04529108136578383), (1310, 0.04529108136578383), (1625, 0.04529108136578383), (1711, 0.04529108136578383), (1827, 0.04529108136578383), (1860, 0.04529108136578383), (2036, 0.04529108136578383), (2069, 0.04529108136578383), (2862, 0.04529108136578383), (2896, 0.04529108136578383), (3182, 0.04529108136578383), (3259, 0.04529108136578383), (3317, 0.04529108136578383), (4414, 0.04529108136578383), (4573, 0.04529108136578383), (4746, 0.04529108136578383), (213, 0.04512426281971402), (747, 0.04512426281971402), (1769, 0.04512426281971402), (2356, 0.04512426281971402), (3484, 0.04512426281971402), (4299, 0.04512426281971402), (3401, 0.044796082007366476), (4460, 0.044796082007366476), (23, 0.0445545919354113), (389, 0.0445545919354113), (745, 0.0445545919354113), (794, 0.0445545919354113), (825, 0.0445545919354113), (960, 0.0445545919354113), (981, 0.0445545919354113), (1720, 0.0445545919354113), (1940, 0.0445545919354113), (2140, 0.0445545919354113), (2196, 0.0445545919354113), (2568, 0.0445545919354113), (2582, 0.0445545919354113), (2834, 0.0445545919354113), (2837, 0.0445545919354113), (3237, 0.0445545919354113), (3292, 0.0445545919354113), (3883, 0.0445545919354113), (4572, 0.0445545919354113), (296, 0.044474958999666074), (1581, 0.044474958999666074), (1918, 0.044474958999666074), (3267, 0.044474958999666074), (20, 0.044376015698018335), (610, 0.044376015698018335), (145, 0.04416064439682459), (607, 0.04416064439682459), (1279, 0.04416064439682459), (2511, 0.04416064439682459), (845, 0.043852900965351466), (2427, 0.043852900965351466), (198, 0.04385290096535146), (236, 0.04385290096535146), (667, 0.04385290096535146), (700, 0.04385290096535146), (775, 0.04385290096535146), (973, 0.04385290096535146), (1164, 0.04385290096535146), (1186, 0.04385290096535146), (1239, 0.04385290096535146), (1414, 0.04385290096535146), (1484, 0.04385290096535146), (1790, 0.04385290096535146), (1833, 0.04385290096535146), (2349, 0.04385290096535146), (2394, 0.04385290096535146), (2480, 0.04385290096535146), (2494, 0.04385290096535146), (2577, 0.04385290096535146), (2818, 0.04385290096535146), (3083, 0.04385290096535146), (3441, 0.04385290096535146), (3801, 0.04385290096535146), (4032, 0.04385290096535146), (4046, 0.04385290096535146), (4134, 0.04385290096535146), (4488, 0.04385290096535146), (4663, 0.04385290096535146), (1132, 0.04355150288546561), (4705, 0.04325623505463544), (725, 0.04318335170875306), (974, 0.04318335170875306), (1139, 0.04318335170875306), (1416, 0.04318335170875306), (1610, 0.04318335170875306), (1853, 0.04318335170875306), (1976, 0.04318335170875306), (2190, 0.04318335170875306), (3324, 0.04318335170875306), (3506, 0.04318335170875306), (4283, 0.04318335170875306), (4489, 0.04318335170875306), (2727, 0.04296689244236597), (3142, 0.04296689244236597), (4423, 0.04268327949183541), (21, 0.0425435629811517), (91, 0.0425435629811517), (104, 0.0425435629811517), (232, 0.0425435629811517), (427, 0.0425435629811517), (530, 0.0425435629811517), (1651, 0.0425435629811517), (2041, 0.0425435629811517), (2122, 0.0425435629811517), (2701, 0.0425435629811517), (2842, 0.0425435629811517), (2916, 0.0425435629811517), (3036, 0.0425435629811517), (4118, 0.0425435629811517), (424, 0.04240520956441317), (1572, 0.04240520956441317), (2219, 0.04240520956441317), (230, 0.04213250442347431), (284, 0.04213250442347431), (1086, 0.04213250442347431), (3627, 0.04213250442347431), (39, 0.04193139346887673), (227, 0.04193139346887673), (449, 0.04193139346887673), (626, 0.04193139346887673), (859, 0.04193139346887673), (895, 0.04193139346887673), (984, 0.04193139346887673), (1009, 0.04193139346887673), (1193, 0.04193139346887673), (1204, 0.04193139346887673), (1221, 0.04193139346887673), (1400, 0.04193139346887673), (1743, 0.04193139346887673), (1815, 0.04193139346887673), (1836, 0.04193139346887673), (1844, 0.04193139346887673), (2163, 0.04193139346887673), (2211, 0.04193139346887673), (2487, 0.04193139346887673), (2491, 0.04193139346887673), (2655, 0.04193139346887673), (3090, 0.04193139346887673), (3177, 0.04193139346887673), (3342, 0.04193139346887673), (3381, 0.04193139346887673), (3423, 0.04193139346887673), (3753, 0.04193139346887673), (355, 0.041864993754266715), (3269, 0.041864993754266715), (4155, 0.04160251471689219), (128, 0.041344911529736156), (327, 0.041344911529736156), (790, 0.041344911529736156), (830, 0.041344911529736156), (1313, 0.041344911529736156), (1450, 0.041344911529736156), (1784, 0.041344911529736156), (1821, 0.041344911529736156), (1962, 0.041344911529736156), (2226, 0.041344911529736156), (2841, 0.041344911529736156), (2997, 0.041344911529736156), (3006, 0.041344911529736156), (3144, 0.041344911529736156), (3245, 0.041344911529736156), (3740, 0.041344911529736156), (3797, 0.041344911529736156), (3899, 0.041344911529736156), (3909, 0.041344911529736156), (3919, 0.041344911529736156), (4239, 0.041344911529736156), (4303, 0.041344911529736156), (4403, 0.041344911529736156), (4505, 0.041344911529736156), (4596, 0.041344911529736156), (4620, 0.041344911529736156), (4771, 0.041344911529736156), (2682, 0.041202096209968384), (3940, 0.04109203508092453), (24, 0.04078236951430929), (126, 0.04078236951430929), (257, 0.04078236951430929), (606, 0.04078236951430929), (1146, 0.04078236951430929), (1322, 0.04078236951430929), (1741, 0.04078236951430929), (1752, 0.04078236951430929), (1859, 0.04078236951430929), (2158, 0.04078236951430929), (2677, 0.04078236951430929), (3045, 0.04078236951430929), (3315, 0.04078236951430929), (3601, 0.04078236951430929), (3621, 0.04078236951430929), (3844, 0.04078236951430929), (2757, 0.040599897147057515), (1705, 0.04036036763977875), (0, 0.04024218182927669), (16, 0.04024218182927669), (37, 0.04024218182927669), (295, 0.04024218182927669), (439, 0.04024218182927669), (499, 0.04024218182927669), (548, 0.04024218182927669), (646, 0.04024218182927669), (714, 0.04024218182927669), (955, 0.04024218182927669), (1003, 0.04024218182927669), (1077, 0.04024218182927669), (1391, 0.04024218182927669), (1443, 0.04024218182927669), (1448, 0.04024218182927669), (1542, 0.04024218182927669), (3887, 0.04024218182927669), (4310, 0.04024218182927669), (4647, 0.04024218182927669), (4685, 0.04024218182927669), (1306, 0.04012502821292038), (2201, 0.04012502821292038), (2442, 0.04012502821292038), (75, 0.039722906114947866), (402, 0.039722906114947866), (576, 0.039722906114947866), (814, 0.039722906114947866), (1205, 0.039722906114947866), (1338, 0.039722906114947866), (1380, 0.039722906114947866), (1655, 0.039722906114947866), (1894, 0.039722906114947866), (2142, 0.039722906114947866), (2175, 0.039722906114947866), (2417, 0.039722906114947866), (2794, 0.039722906114947866), (2811, 0.039722906114947866), (3159, 0.039722906114947866), (3251, 0.039722906114947866), (3596, 0.039722906114947866), (3687, 0.039722906114947866), (3710, 0.039722906114947866), (2995, 0.03966644140109588), (4760, 0.03944296671351375), (26, 0.03922322702763681), (274, 0.03922322702763681), (804, 0.03922322702763681), (828, 0.03922322702763681), (1647, 0.03922322702763681), (1945, 0.03922322702763681), (2194, 0.03922322702763681), (2249, 0.03922322702763681), (2337, 0.03922322702763681), (2460, 0.03922322702763681), (2496, 0.03922322702763681), (2538, 0.03922322702763681), (2744, 0.03922322702763681), (2845, 0.03922322702763681), (2968, 0.03922322702763681), (3020, 0.03922322702763681), (3446, 0.03922322702763681), (3502, 0.03922322702763681), (3629, 0.03922322702763681), (3728, 0.03922322702763681), (3748, 0.03922322702763681), (3867, 0.03922322702763681), (4275, 0.03922322702763681), (4309, 0.03922322702763681), (4590, 0.03922322702763681), (4671, 0.03922322702763681), (4701, 0.03922322702763681), (496, 0.03900711944900846), (2064, 0.03900711944900846), (492, 0.03874194221130299), (651, 0.03874194221130299), (835, 0.03874194221130299), (937, 0.03874194221130299), (1043, 0.03874194221130299), (1120, 0.03874194221130299), (1177, 0.03874194221130299), (1291, 0.03874194221130299), (1377, 0.03874194221130299), (1505, 0.03874194221130299), (1596, 0.03874194221130299), (1634, 0.03874194221130299), (2134, 0.03874194221130299), (2632, 0.03874194221130299), (3040, 0.03874194221130299), (3209, 0.03874194221130299), (3397, 0.03874194221130299), (4323, 0.03874194221130299), (80, 0.03858540847131547), (1628, 0.03858540847131547), (1830, 0.03858540847131547), (111, 0.03827795011754764), (210, 0.03827795011754764), (540, 0.03827795011754764), (643, 0.03827795011754764), (644, 0.03827795011754764), (690, 0.03827795011754764), (956, 0.03827795011754764), (985, 0.03827795011754764), (1034, 0.03827795011754764), (1179, 0.03827795011754764), (1502, 0.03827795011754764), (1589, 0.03827795011754764), (1608, 0.03827795011754764), (1907, 0.03827795011754764), (1914, 0.03827795011754764), (1982, 0.03827795011754764), (2154, 0.03827795011754764), (2198, 0.03827795011754764), (2381, 0.03827795011754764), (2887, 0.03827795011754764), (3318, 0.03827795011754764), (3681, 0.03827795011754764), (4040, 0.03827795011754764), (4492, 0.03827795011754764), (4513, 0.03827795011754764), (4704, 0.03827795011754764), (266, 0.03783023939287672), (340, 0.03783023939287672), (513, 0.03783023939287672), (545, 0.03783023939287672), (634, 0.03783023939287672), (708, 0.03783023939287672), (1067, 0.03783023939287672), (1606, 0.03783023939287672), (2007, 0.03783023939287672), (2146, 0.03783023939287672), (2263, 0.03783023939287672), (2599, 0.03783023939287672), (3085, 0.03783023939287672), (3667, 0.03783023939287672), (3776, 0.03783023939287672), (3928, 0.03783023939287672), (4762, 0.03783023939287672), (1986, 0.03778145763255572), (36, 0.03739787960033829), (52, 0.03739787960033829), (300, 0.03739787960033829), (350, 0.03739787960033829), (818, 0.03739787960033829), (946, 0.03739787960033829), (1835, 0.03739787960033829), (1946, 0.03739787960033829), (2049, 0.03739787960033829), (2266, 0.03739787960033829), (2403, 0.03739787960033829), (3017, 0.03739787960033829), (3490, 0.03739787960033829), (3590, 0.03739787960033829), (4175, 0.03739787960033829), (4180, 0.03739787960033829), (4243, 0.03739787960033829), (4385, 0.03739787960033829), (4531, 0.03739787960033829), (108, 0.036980013081681945), (431, 0.036980013081681945), (629, 0.036980013081681945), (683, 0.036980013081681945), (1020, 0.036980013081681945), (1540, 0.036980013081681945), (1699, 0.036980013081681945), (1990, 0.036980013081681945), (2209, 0.036980013081681945), (2431, 0.036980013081681945), (2611, 0.036980013081681945), (2749, 0.036980013081681945), (2983, 0.036980013081681945), (3250, 0.036980013081681945), (3350, 0.036980013081681945), (3482, 0.036980013081681945), (3633, 0.036980013081681945), (3641, 0.036980013081681945), (4256, 0.036980013081681945), (4328, 0.036980013081681945), (4521, 0.036980013081681945), (4634, 0.036980013081681945), (2340, 0.03684380630918061), (4043, 0.03666451665002534), (116, 0.03657584779797276), (371, 0.03657584779797276), (655, 0.03657584779797276), (816, 0.03657584779797276), (856, 0.03657584779797276), (870, 0.03657584779797276), (1165, 0.03657584779797276), (1352, 0.03657584779797276), (1684, 0.03657584779797276), (1782, 0.03657584779797276), (2711, 0.03657584779797276), (2880, 0.03657584779797276), (3115, 0.03657584779797276), (3418, 0.03657584779797276), (4063, 0.03657584779797276), (4517, 0.03657584779797276), (4543, 0.03657584779797276), (4584, 0.03657584779797276), (4672, 0.03631365196012815), (192, 0.036184651012597005), (803, 0.036184651012597005), (888, 0.036184651012597005), (911, 0.036184651012597005), (1270, 0.036184651012597005), (2649, 0.036184651012597005), (2825, 0.036184651012597005), (2900, 0.036184651012597005), (3034, 0.036184651012597005), (3741, 0.036184651012597005), (3752, 0.036184651012597005), (3937, 0.036184651012597005), (4440, 0.036184651012597005), (409, 0.035805743701971655), (609, 0.035805743701971655), (636, 0.035805743701971655), (767, 0.035805743701971655), (788, 0.035805743701971655), (1040, 0.035805743701971655), (1064, 0.035805743701971655), (1137, 0.035805743701971655), (1269, 0.035805743701971655), (1273, 0.035805743701971655), (1337, 0.035805743701971655), (1464, 0.035805743701971655), (2001, 0.035805743701971655), (2089, 0.035805743701971655), (2322, 0.035805743701971655), (2510, 0.035805743701971655), (2636, 0.035805743701971655), (2936, 0.035805743701971655), (3035, 0.035805743701971655), (3679, 0.035805743701971655), (3734, 0.035805743701971655), (4280, 0.035805743701971655), (4496, 0.035805743701971655), (4691, 0.035805743701971655), (4751, 0.035805743701971655), (97, 0.035438495596916704), (596, 0.035438495596916704), (778, 0.035438495596916704), (782, 0.035438495596916704), (948, 0.035438495596916704), (1255, 0.035438495596916704), (1531, 0.035438495596916704), (1730, 0.035438495596916704), (1808, 0.035438495596916704), (1858, 0.035438495596916704), (1874, 0.035438495596916704), (1991, 0.035438495596916704), (2435, 0.035438495596916704), (2467, 0.035438495596916704), (2541, 0.035438495596916704), (2836, 0.035438495596916704), (3210, 0.035438495596916704), (3918, 0.035438495596916704), (4173, 0.035438495596916704), (4207, 0.035438495596916704), (4535, 0.035438495596916704), (4798, 0.035438495596916704), (727, 0.035318568025915875), (114, 0.03508232077228117), (1145, 0.03508232077228117), (1577, 0.03508232077228117), (2237, 0.03508232077228117), (3022, 0.03508232077228117), (4393, 0.03508232077228117), (4724, 0.03508232077228117), (337, 0.03473667371459374), (442, 0.03473667371459374), (575, 0.03473667371459374), (758, 0.03473667371459374), (994, 0.03473667371459374), (1650, 0.03473667371459374), (1794, 0.03473667371459374), (2580, 0.03473667371459374), (3535, 0.03473667371459374), (3775, 0.03473667371459374), (4116, 0.03473667371459374), (4386, 0.03473667371459374), (3890, 0.03469889591797442), (4676, 0.03469889591797442), (83, 0.034401045807689073), (140, 0.034401045807689073), (331, 0.034401045807689073), (420, 0.034401045807689073), (586, 0.034401045807689073), (623, 0.034401045807689073), (819, 0.034401045807689073), (1429, 0.034401045807689073), (1574, 0.034401045807689073), (1623, 0.034401045807689073), (2019, 0.034401045807689073), (2240, 0.034401045807689073), (2252, 0.034401045807689073), (2299, 0.034401045807689073), (2850, 0.034401045807689073), (3028, 0.034401045807689073), (3325, 0.034401045807689073), (3384, 0.034401045807689073), (3457, 0.034401045807689073), (3682, 0.034401045807689073), (3711, 0.034401045807689073), (3903, 0.034401045807689073), (4167, 0.034401045807689073), (4342, 0.034401045807689073), (4613, 0.034401045807689073), (158, 0.03407496218479928), (248, 0.03407496218479928), (282, 0.03407496218479928), (582, 0.03407496218479928), (1211, 0.03407496218479928), (1224, 0.03407496218479928), (3195, 0.03407496218479928), (3304, 0.03407496218479928), (3403, 0.03407496218479928), (3503, 0.03407496218479928), (3837, 0.03407496218479928), (4220, 0.03407496218479928), (4421, 0.03407496218479928), (188, 0.03375797890278889), (215, 0.03375797890278889), (1114, 0.03375797890278889), (2103, 0.03375797890278889), (2248, 0.03375797890278889), (2722, 0.03375797890278889), (3232, 0.03375797890278889), (3548, 0.03375797890278889), (4559, 0.033688731693659296), (115, 0.033449680400283635), (482, 0.033449680400283635), (694, 0.033449680400283635), (1826, 0.033449680400283635), (1924, 0.033449680400283635), (1952, 0.033449680400283635), (2129, 0.033449680400283635), (2398, 0.033449680400283635), (3127, 0.033449680400283635), (4378, 0.033449680400283635), (5, 0.033149677206589796), (29, 0.033149677206589796), (281, 0.033149677206589796), (314, 0.033149677206589796), (456, 0.033149677206589796), (688, 0.033149677206589796), (919, 0.033149677206589796), (1176, 0.033149677206589796), (1254, 0.033149677206589796), (1403, 0.033149677206589796), (1755, 0.033149677206589796), (1839, 0.033149677206589796), (1978, 0.033149677206589796), (2005, 0.033149677206589796), (2236, 0.033149677206589796), (2382, 0.033149677206589796), (2743, 0.033149677206589796), (2972, 0.033149677206589796), (3088, 0.033149677206589796), (3125, 0.033149677206589796), (3141, 0.033149677206589796), (3243, 0.033149677206589796), (3847, 0.033149677206589796), (3997, 0.033149677206589796), (4179, 0.033149677206589796), (4205, 0.033149677206589796), (4550, 0.033149677206589796), (4577, 0.033149677206589796), (4730, 0.033149677206589796), (4757, 0.033149677206589796), (53, 0.032857603872676285), (1304, 0.032857603872676285), (1328, 0.032857603872676285), (1384, 0.032857603872676285), (2063, 0.032857603872676285), (2364, 0.032857603872676285), (2606, 0.032857603872676285), (2805, 0.032857603872676285), (3400, 0.032857603872676285), (3698, 0.032857603872676285), (4156, 0.032857603872676285), (4591, 0.032857603872676285), (1947, 0.03276194834547804), (217, 0.032573117099222816), (448, 0.032573117099222816), (1208, 0.032573117099222816), (1973, 0.032573117099222816), (2258, 0.032573117099222816), (3049, 0.032573117099222816), (3157, 0.032573117099222816), (3187, 0.032573117099222816), (4353, 0.032573117099222816), (4391, 0.032573117099222816), (273, 0.032295894039929156), (622, 0.032295894039929156), (1278, 0.032295894039929156), (1490, 0.032295894039929156), (3733, 0.032295894039929156), (4144, 0.03214490726609442), (62, 0.03202563076101743), (534, 0.03202563076101743), (1735, 0.03202563076101743), (1901, 0.03202563076101743), (2474, 0.03202563076101743), (2492, 0.03202563076101743), (2524, 0.03202563076101743), (2641, 0.03202563076101743), (2754, 0.03202563076101743), (3038, 0.03202563076101743), (3514, 0.03202563076101743), (3746, 0.03202563076101743), (3907, 0.03202563076101743), (3971, 0.03202563076101743), (3981, 0.03202563076101743), (4511, 0.03202563076101743), (4558, 0.03202563076101743), (654, 0.03176204084021421), (963, 0.03176204084021421), (989, 0.03176204084021421), (2433, 0.03176204084021421), (2535, 0.03176204084021421), (4005, 0.03176204084021421), (4447, 0.03176204084021421), (2020, 0.031561466632308), (1449, 0.03150485409052879), (2623, 0.03150485409052879), (3073, 0.03150485409052879), (3414, 0.03150485409052879), (3591, 0.03150485409052879), (501, 0.03125381539589969), (1100, 0.03125381539589969), (1872, 0.03125381539589969), (2100, 0.03125381539589969), (2290, 0.03125381539589969), (2597, 0.03125381539589969), (1140, 0.031116916729072713), (455, 0.031008683647302117), (1190, 0.031008683647302117), (1267, 0.031008683647302117), (1593, 0.031008683647302117), (1792, 0.031008683647302117), (2048, 0.031008683647302117), (2325, 0.031008683647302117), (2517, 0.031008683647302117), (2668, 0.031008683647302117), (2864, 0.031008683647302117), (2871, 0.031008683647302117), (3154, 0.031008683647302117), (3283, 0.031008683647302117), (3345, 0.031008683647302117), (3520, 0.031008683647302117), (3721, 0.031008683647302117), (3826, 0.031008683647302117), (3935, 0.031008683647302117), (4369, 0.031008683647302117), (4435, 0.031008683647302117), (4562, 0.031008683647302117), (4645, 0.031008683647302117), (4712, 0.031008683647302117), (4752, 0.031008683647302117), (2093, 0.030769230769230774), (2167, 0.030769230769230774), (2746, 0.030769230769230774), (517, 0.030535240827622965), (640, 0.030535240827622965), (673, 0.030535240827622965), (925, 0.030535240827622965), (1528, 0.030535240827622965), (2416, 0.030535240827622965), (3499, 0.030535240827622965), (4070, 0.030535240827622965), (4113, 0.030535240827622965), (949, 0.030306509211290782), (1597, 0.030306509211290782), (2714, 0.030306509211290782), (3242, 0.030306509211290782), (4339, 0.030306509211290782), (47, 0.030082841879809342), (153, 0.030082841879809342), (186, 0.030082841879809342), (897, 0.030082841879809342), (966, 0.030082841879809342), (1030, 0.030082841879809342), (1042, 0.030082841879809342), (1180, 0.030082841879809342), (1357, 0.030082841879809342), (1522, 0.030082841879809342), (1667, 0.030082841879809342), (1771, 0.030082841879809342), (1785, 0.030082841879809342), (1862, 0.030082841879809342), (1895, 0.030082841879809342), (1920, 0.030082841879809342), (1933, 0.030082841879809342), (2306, 0.030082841879809342), (2581, 0.030082841879809342), (2591, 0.030082841879809342), (2719, 0.030082841879809342), (2774, 0.030082841879809342), (2783, 0.030082841879809342), (3319, 0.030082841879809342), (3523, 0.030082841879809342), (3825, 0.030082841879809342), (4254, 0.030082841879809342), (4273, 0.030082841879809342), (4401, 0.030082841879809342), (4441, 0.030082841879809342), (4649, 0.030082841879809342), (4741, 0.030082841879809342), (4779, 0.030082841879809342), (4790, 0.030082841879809342), (65, 0.029864054671577652), (921, 0.029864054671577652), (1235, 0.029864054671577652), (4245, 0.0297921795862109), (149, 0.02964997266644405), (589, 0.02964997266644405), (2637, 0.02964997266644405), (3688, 0.02964997266644405), (838, 0.029440429597883063), (969, 0.029440429597883063), (3356, 0.029440429597883063), (3572, 0.029440429597883063), (3673, 0.029440429597883063), (4795, 0.029440429597883063), (699, 0.029235267310234313), (739, 0.029235267310234313), (850, 0.029235267310234313), (906, 0.029235267310234313), (1002, 0.029235267310234313), (1136, 0.029235267310234313), (1203, 0.029235267310234313), (1251, 0.029235267310234313), (1418, 0.029235267310234313), (1615, 0.029235267310234313), (1992, 0.029235267310234313), (2268, 0.029235267310234313), (2542, 0.029235267310234313), (2685, 0.029235267310234313), (3076, 0.029235267310234313), (3114, 0.029235267310234313), (3119, 0.029235267310234313), (3212, 0.029235267310234313), (3277, 0.029235267310234313), (3460, 0.029235267310234313), (3508, 0.029235267310234313), (3955, 0.029235267310234313), (4123, 0.029235267310234313), (4133, 0.029235267310234313), (4142, 0.029235267310234313), (4212, 0.029235267310234313), (4315, 0.029235267310234313), (4388, 0.029235267310234313), (4405, 0.029235267310234313), (4465, 0.029235267310234313), (4654, 0.029235267310234313), (4740, 0.029235267310234313), (246, 0.029034335256977073), (2080, 0.029034335256977073), (4041, 0.029034335256977073), (583, 0.028837490036423625), (1365, 0.028837490036423625), (1788, 0.028837490036423625), (1912, 0.028837490036423625), (1999, 0.028837490036423625), (2075, 0.028837490036423625), (3855, 0.028837490036423625), (1222, 0.028644594961577313), (4096, 0.028644594961577313), (4642, 0.028644594961577313), (428, 0.02845551966122361), (800, 0.02845551966122361), (808, 0.02845551966122361), (914, 0.02845551966122361), (1206, 0.02845551966122361), (1345, 0.02845551966122361), (1407, 0.02845551966122361), (1515, 0.02845551966122361), (1690, 0.02845551966122361), (1773, 0.02845551966122361), (1820, 0.02845551966122361), (1941, 0.02845551966122361), (2112, 0.02845551966122361), (2320, 0.02845551966122361), (2363, 0.02845551966122361), (2420, 0.02845551966122361), (2512, 0.02845551966122361), (2608, 0.02845551966122361), (2688, 0.02845551966122361), (2795, 0.02845551966122361), (2930, 0.02845551966122361), (2986, 0.02845551966122361), (3064, 0.02845551966122361), (3229, 0.02845551966122361), (3298, 0.02845551966122361), (3392, 0.02845551966122361), (3431, 0.02845551966122361), (3505, 0.02845551966122361), (3592, 0.02845551966122361), (3620, 0.02845551966122361), (3704, 0.02845551966122361), (3723, 0.02845551966122361), (3885, 0.02845551966122361), (4050, 0.02845551966122361), (4059, 0.02845551966122361), (4093, 0.02845551966122361), (4124, 0.02845551966122361), (4232, 0.02845551966122361), (4270, 0.02845551966122361), (4406, 0.02845551966122361), (4603, 0.02845551966122361), (4678, 0.02845551966122361), (4770, 0.02845551966122361), (197, 0.02827013970960878), (206, 0.02827013970960878), (238, 0.02827013970960878), (1523, 0.02827013970960878), (60, 0.02808833628231621), (799, 0.02808833628231621), (1568, 0.02808833628231621), (150, 0.02790999583617781), (239, 0.02790999583617781), (1672, 0.02790999583617781), (3646, 0.02790999583617781), (466, 0.02773500981126146), (520, 0.02773500981126146), (627, 0.02773500981126146), (653, 0.02773500981126146), (1171, 0.02773500981126146), (1334, 0.02773500981126146), (1483, 0.02773500981126146), (1518, 0.02773500981126146), (1546, 0.02773500981126146), (1886, 0.02773500981126146), (1919, 0.02773500981126146), (2083, 0.02773500981126146), (2291, 0.02773500981126146), (2311, 0.02773500981126146), (2388, 0.02773500981126146), (2567, 0.02773500981126146), (2634, 0.02773500981126146), (2659, 0.02773500981126146), (2736, 0.02773500981126146), (2806, 0.02773500981126146), (2866, 0.02773500981126146), (2994, 0.02773500981126146), (3098, 0.02773500981126146), (3214, 0.02773500981126146), (3495, 0.02773500981126146), (3586, 0.02773500981126146), (3622, 0.02773500981126146), (3764, 0.02773500981126146), (3833, 0.02773500981126146), (3856, 0.02773500981126146), (3967, 0.02773500981126146), (3989, 0.02773500981126146), (4276, 0.02773500981126146), (4326, 0.02773500981126146), (4448, 0.02773500981126146), (4468, 0.02773500981126146), (4548, 0.02773500981126146), (4556, 0.02773500981126146), (4639, 0.02773500981126146), (4675, 0.02773500981126146), (560, 0.027563274353157436), (1103, 0.027563274353157436), (3140, 0.027563274353157436), (1635, 0.027394690053949688), (2784, 0.027229161710404234), (490, 0.027066598098038342), (1126, 0.027066598098038342), (1150, 0.027066598098038342), (1311, 0.027066598098038342), (1318, 0.027066598098038342), (1388, 0.027066598098038342), (1482, 0.027066598098038342), (1495, 0.027066598098038342), (1664, 0.027066598098038342), (1800, 0.027066598098038342), (2088, 0.027066598098038342), (2307, 0.027066598098038342), (2379, 0.027066598098038342), (2410, 0.027066598098038342), (2451, 0.027066598098038342), (2572, 0.027066598098038342), (2617, 0.027066598098038342), (2650, 0.027066598098038342), (2692, 0.027066598098038342), (2803, 0.027066598098038342), (2868, 0.027066598098038342), (2956, 0.027066598098038342), (3031, 0.027066598098038342), (3218, 0.027066598098038342), (3362, 0.027066598098038342), (3483, 0.027066598098038342), (3678, 0.027066598098038342), (3868, 0.027066598098038342), (3964, 0.027066598098038342), (3968, 0.027066598098038342), (4128, 0.027066598098038342), (4150, 0.027066598098038342), (4178, 0.027066598098038342), (4681, 0.027066598098038342), (4699, 0.027066598098038342), (183, 0.0269069117598525), (3196, 0.02675001880861359), (3954, 0.02675001880861359), (4104, 0.02675001880861359), (2026, 0.02659583874167388), (2470, 0.02659583874167388), (4066, 0.02659583874167388), (233, 0.026444294267397254), (336, 0.026444294267397254), (657, 0.026444294267397254), (1547, 0.026444294267397254), (1710, 0.026444294267397254), (1717, 0.026444294267397254), (2111, 0.026444294267397254), (2254, 0.026444294267397254), (2286, 0.026444294267397254), (2302, 0.026444294267397254), (2317, 0.026444294267397254), (2450, 0.026444294267397254), (2515, 0.026444294267397254), (2578, 0.026444294267397254), (2622, 0.026444294267397254), (2747, 0.026444294267397254), (2964, 0.026444294267397254), (3068, 0.026444294267397254), (3303, 0.026444294267397254), (3379, 0.026444294267397254), (3582, 0.026444294267397254), (3616, 0.026444294267397254), (3639, 0.026444294267397254), (3760, 0.026444294267397254), (3774, 0.026444294267397254), (3884, 0.026444294267397254), (3960, 0.026444294267397254), (4247, 0.026444294267397254), (4410, 0.026444294267397254), (887, 0.0262953111423425), (3184, 0.0262953111423425), (4624, 0.02614881801842454), (25, 0.026004746299338972), (100, 0.025863030005593587), (505, 0.025863030005593587), (537, 0.025863030005593587), (570, 0.025863030005593587), (624, 0.025863030005593587), (693, 0.025863030005593587), (935, 0.025863030005593587), (1063, 0.025863030005593587), (1288, 0.025863030005593587), (1317, 0.025863030005593587), (1460, 0.025863030005593587), (1731, 0.025863030005593587), (1834, 0.025863030005593587), (1871, 0.025863030005593587), (1905, 0.025863030005593587), (2188, 0.025863030005593587), (2312, 0.025863030005593587), (2429, 0.025863030005593587), (2737, 0.025863030005593587), (2756, 0.025863030005593587), (3081, 0.025863030005593587), (3124, 0.025863030005593587), (3359, 0.025863030005593587), (3390, 0.025863030005593587), (3474, 0.025863030005593587), (3655, 0.025863030005593587), (3966, 0.025863030005593587), (4130, 0.025863030005593587), (4185, 0.025863030005593587), (4279, 0.025863030005593587), (4408, 0.025863030005593587), (4480, 0.025863030005593587), (4491, 0.025863030005593587), (4692, 0.025863030005593587), (3071, 0.025723605647543644), (601, 0.025586412105876012), (893, 0.025586412105876012), (3727, 0.025451390519031114), (4017, 0.025451390519031114), (61, 0.02531848417709167), (162, 0.02531848417709167), (201, 0.02531848417709167), (319, 0.02531848417709167), (715, 0.02531848417709167), (988, 0.02531848417709167), (1074, 0.02531848417709167), (1130, 0.02531848417709167), (1151, 0.02531848417709167), (1332, 0.02531848417709167), (1367, 0.02531848417709167), (1488, 0.02531848417709167), (1520, 0.02531848417709167), (1677, 0.02531848417709167), (1878, 0.02531848417709167), (2047, 0.02531848417709167), (2094, 0.02531848417709167), (2193, 0.02531848417709167), (2244, 0.02531848417709167), (2253, 0.02531848417709167), (2885, 0.02531848417709167), (3055, 0.02531848417709167), (3206, 0.02531848417709167), (3234, 0.02531848417709167), (3311, 0.02531848417709167), (3407, 0.02531848417709167), (3485, 0.02531848417709167), (3577, 0.02531848417709167), (3624, 0.02531848417709167), (3772, 0.02531848417709167), (3870, 0.02531848417709167), (3987, 0.02531848417709167), (4054, 0.02531848417709167), (4332, 0.02531848417709167), (4473, 0.02531848417709167), (4575, 0.02531848417709167), (3225, 0.025187638421703816), (947, 0.025058800551629408), (1422, 0.025058800551629408), (3793, 0.025058800551629408), (4012, 0.025058800551629408), (85, 0.02493191973355886), (2875, 0.02493191973355886), (31, 0.024806946917841695), (33, 0.024806946917841695), (134, 0.024806946917841695), (148, 0.024806946917841695), (267, 0.024806946917841695), (408, 0.024806946917841695), (621, 0.024806946917841695), (684, 0.024806946917841695), (685, 0.024806946917841695), (878, 0.024806946917841695), (1071, 0.024806946917841695), (1087, 0.024806946917841695), (1323, 0.024806946917841695), (1397, 0.024806946917841695), (1493, 0.024806946917841695), (1556, 0.024806946917841695), (1622, 0.024806946917841695), (1721, 0.024806946917841695), (1781, 0.024806946917841695), (1902, 0.024806946917841695), (1913, 0.024806946917841695), (1921, 0.024806946917841695), (1936, 0.024806946917841695), (1998, 0.024806946917841695), (2133, 0.024806946917841695), (2225, 0.024806946917841695), (2228, 0.024806946917841695), (2262, 0.024806946917841695), (2354, 0.024806946917841695), (2502, 0.024806946917841695), (2573, 0.024806946917841695), (2709, 0.024806946917841695), (2830, 0.024806946917841695), (2877, 0.024806946917841695), (3082, 0.024806946917841695), (3138, 0.024806946917841695), (3314, 0.024806946917841695), (3567, 0.024806946917841695), (3849, 0.024806946917841695), (3876, 0.024806946917841695), (4022, 0.024806946917841695), (4151, 0.024806946917841695), (4216, 0.024806946917841695), (4222, 0.024806946917841695), (4497, 0.024806946917841695), (4515, 0.024806946917841695), (4520, 0.024806946917841695), (4617, 0.024806946917841695), (159, 0.024325212770526), (362, 0.024325212770526), (487, 0.024325212770526), (773, 0.024325212770526), (880, 0.024325212770526), (951, 0.024325212770526), (1248, 0.024325212770526), (1701, 0.024325212770526), (1718, 0.024325212770526), (2149, 0.024325212770526), (2277, 0.024325212770526), (2328, 0.024325212770526), (2377, 0.024325212770526), (2558, 0.024325212770526), (2693, 0.024325212770526), (2882, 0.024325212770526), (3087, 0.024325212770526), (3113, 0.024325212770526), (3143, 0.024325212770526), (3271, 0.024325212770526), (3301, 0.024325212770526), (3312, 0.024325212770526), (3416, 0.024325212770526), (3424, 0.024325212770526), (3549, 0.024325212770526), (3588, 0.024325212770526), (3598, 0.024325212770526), (3661, 0.024325212770526), (3777, 0.024325212770526), (3791, 0.024325212770526), (3917, 0.024325212770526), (4031, 0.024325212770526), (4427, 0.024325212770526), (4574, 0.024325212770526), (4592, 0.024325212770526), (4655, 0.024325212770526), (4698, 0.024325212770526), (4735, 0.024325212770526), (290, 0.023870495801314433), (309, 0.023870495801314433), (483, 0.023870495801314433), (877, 0.023870495801314433), (957, 0.023870495801314433), (1046, 0.023870495801314433), (1066, 0.023870495801314433), (1336, 0.023870495801314433), (1385, 0.023870495801314433), (1468, 0.023870495801314433), (1563, 0.023870495801314433), (1567, 0.023870495801314433), (1600, 0.023870495801314433), (1639, 0.023870495801314433), (1715, 0.023870495801314433), (1797, 0.023870495801314433), (1799, 0.023870495801314433), (1937, 0.023870495801314433), (1938, 0.023870495801314433), (2011, 0.023870495801314433), (2336, 0.023870495801314433), (2477, 0.023870495801314433), (2619, 0.023870495801314433), (2643, 0.023870495801314433), (2890, 0.023870495801314433), (2917, 0.023870495801314433), (2998, 0.023870495801314433), (3368, 0.023870495801314433), (3475, 0.023870495801314433), (3702, 0.023870495801314433), (3827, 0.023870495801314433), (3858, 0.023870495801314433), (3961, 0.023870495801314433), (3976, 0.023870495801314433), (4351, 0.023870495801314433), (4485, 0.023870495801314433), (4653, 0.023870495801314433), (4773, 0.023870495801314433), (68, 0.023440361546924773), (208, 0.023440361546924773), (244, 0.023440361546924773), (320, 0.023440361546924773), (511, 0.023440361546924773), (863, 0.023440361546924773), (945, 0.023440361546924773), (1104, 0.023440361546924773), (1173, 0.023440361546924773), (1272, 0.023440361546924773), (1419, 0.023440361546924773), (1539, 0.023440361546924773), (1668, 0.023440361546924773), (1750, 0.023440361546924773), (1812, 0.023440361546924773), (1896, 0.023440361546924773), (2013, 0.023440361546924773), (2084, 0.023440361546924773), (2342, 0.023440361546924773), (2407, 0.023440361546924773), (2501, 0.023440361546924773), (2645, 0.023440361546924773), (2646, 0.023440361546924773), (2740, 0.023440361546924773), (3041, 0.023440361546924773), (3257, 0.023440361546924773), (3348, 0.023440361546924773), (3437, 0.023440361546924773), (3636, 0.023440361546924773), (3700, 0.023440361546924773), (3729, 0.023440361546924773), (4197, 0.023440361546924773), (4213, 0.023440361546924773), (4318, 0.023440361546924773), (4398, 0.023440361546924773), (4418, 0.023440361546924773), (4560, 0.023440361546924773), (12, 0.02303267198524394), (559, 0.02303267198524394), (590, 0.02303267198524394), (608, 0.02303267198524394), (664, 0.02303267198524394), (826, 0.02303267198524394), (876, 0.02303267198524394), (941, 0.02303267198524394), (990, 0.02303267198524394), (995, 0.02303267198524394), (1001, 0.02303267198524394), (1024, 0.02303267198524394), (1364, 0.02303267198524394), (1474, 0.02303267198524394), (2092, 0.02303267198524394), (2118, 0.02303267198524394), (2135, 0.02303267198524394), (2245, 0.02303267198524394), (2472, 0.02303267198524394), (2500, 0.02303267198524394), (2540, 0.02303267198524394), (2551, 0.02303267198524394), (2662, 0.02303267198524394), (2952, 0.02303267198524394), (3104, 0.02303267198524394), (3105, 0.02303267198524394), (3211, 0.02303267198524394), (3326, 0.02303267198524394), (3382, 0.02303267198524394), (3434, 0.02303267198524394), (3705, 0.02303267198524394), (3982, 0.02303267198524394), (4396, 0.02303267198524394), (4449, 0.02303267198524394), (4472, 0.02303267198524394), (4564, 0.02303267198524394), (4703, 0.02303267198524394), (4739, 0.02303267198524394), (49, 0.022645540682891915), (117, 0.022645540682891915), (220, 0.022645540682891915), (344, 0.022645540682891915), (691, 0.022645540682891915), (736, 0.022645540682891915), (1013, 0.022645540682891915), (1070, 0.022645540682891915), (1131, 0.022645540682891915), (1162, 0.022645540682891915), (1178, 0.022645540682891915), (1229, 0.022645540682891915), (1244, 0.022645540682891915), (1258, 0.022645540682891915), (1486, 0.022645540682891915), (2056, 0.022645540682891915), (2096, 0.022645540682891915), (2106, 0.022645540682891915), (2210, 0.022645540682891915), (2234, 0.022645540682891915), (2288, 0.022645540682891915), (2459, 0.022645540682891915), (2735, 0.022645540682891915), (2950, 0.022645540682891915), (3110, 0.022645540682891915), (3160, 0.022645540682891915), (3463, 0.022645540682891915), (3888, 0.022645540682891915), (3980, 0.022645540682891915), (4092, 0.022645540682891915), (4105, 0.022645540682891915), (4129, 0.022645540682891915), (4145, 0.022645540682891915), (4255, 0.022645540682891915), (4295, 0.022645540682891915), (4300, 0.022645540682891915), (4322, 0.022645540682891915), (4380, 0.022645540682891915), (4450, 0.022645540682891915), (4479, 0.022645540682891915), (4565, 0.022645540682891915), (4608, 0.022645540682891915), (4680, 0.022645540682891915), (4767, 0.022645540682891915), (4775, 0.022645540682891915), (4237, 0.022459154462439533), (4512, 0.022367670764624707), (28, 0.02227729596770565), (176, 0.02227729596770565), (260, 0.02227729596770565), (422, 0.02227729596770565), (524, 0.02227729596770565), (579, 0.02227729596770565), (581, 0.02227729596770565), (642, 0.02227729596770565), (853, 0.02227729596770565), (975, 0.02227729596770565), (1031, 0.02227729596770565), (1051, 0.02227729596770565), (1060, 0.02227729596770565), (1123, 0.02227729596770565), (1134, 0.02227729596770565), (1138, 0.02227729596770565), (1256, 0.02227729596770565), (1381, 0.02227729596770565), (1409, 0.02227729596770565), (1509, 0.02227729596770565), (1754, 0.02227729596770565), (1935, 0.02227729596770565), (2125, 0.02227729596770565), (2164, 0.02227729596770565), (2229, 0.02227729596770565), (2383, 0.02227729596770565), (2448, 0.02227729596770565), (2601, 0.02227729596770565), (3019, 0.02227729596770565), (3048, 0.02227729596770565), (3126, 0.02227729596770565), (3258, 0.02227729596770565), (3360, 0.02227729596770565), (3389, 0.02227729596770565), (3391, 0.02227729596770565), (3443, 0.02227729596770565), (3444, 0.02227729596770565), (3510, 0.02227729596770565), (3581, 0.02227729596770565), (3859, 0.02227729596770565), (3910, 0.02227729596770565), (3988, 0.02227729596770565), (4016, 0.02227729596770565), (4194, 0.02227729596770565), (4343, 0.02227729596770565), (4439, 0.02227729596770565), (4493, 0.02227729596770565), (4579, 0.02227729596770565), (4679, 0.02227729596770565), (4784, 0.02227729596770565), (3363, 0.0220997848043932), (3803, 0.022012605826286828), (2, 0.02192645048267573), (457, 0.02192645048267573), (553, 0.02192645048267573), (676, 0.02192645048267573), (701, 0.02192645048267573), (801, 0.02192645048267573), (1069, 0.02192645048267573), (1174, 0.02192645048267573), (1260, 0.02192645048267573), (1298, 0.02192645048267573), (1330, 0.02192645048267573), (1331, 0.02192645048267573), (1697, 0.02192645048267573), (1831, 0.02192645048267573), (1923, 0.02192645048267573), (2255, 0.02192645048267573), (2324, 0.02192645048267573), (2529, 0.02192645048267573), (2787, 0.02192645048267573), (2789, 0.02192645048267573), (3084, 0.02192645048267573), (3122, 0.02192645048267573), (3155, 0.02192645048267573), (3349, 0.02192645048267573), (3419, 0.02192645048267573), (3647, 0.02192645048267573), (3671, 0.02192645048267573), (3716, 0.02192645048267573), (3977, 0.02192645048267573), (4563, 0.02192645048267573), (3101, 0.02184129889698536), (1253, 0.02167393015549332), (3374, 0.02167393015549332), (133, 0.02159167585437653), (366, 0.02159167585437653), (461, 0.02159167585437653), (526, 0.02159167585437653), (554, 0.02159167585437653), (568, 0.02159167585437653), (577, 0.02159167585437653), (761, 0.02159167585437653), (840, 0.02159167585437653), (1459, 0.02159167585437653), (1560, 0.02159167585437653), (1661, 0.02159167585437653), (1778, 0.02159167585437653), (1922, 0.02159167585437653), (1931, 0.02159167585437653), (2173, 0.02159167585437653), (2274, 0.02159167585437653), (2490, 0.02159167585437653), (2565, 0.02159167585437653), (2583, 0.02159167585437653), (2626, 0.02159167585437653), (2713, 0.02159167585437653), (2791, 0.02159167585437653), (2932, 0.02159167585437653), (2985, 0.02159167585437653), (3066, 0.02159167585437653), (3816, 0.02159167585437653), (3932, 0.02159167585437653), (4030, 0.02159167585437653), (4262, 0.02159167585437653), (4554, 0.02159167585437653), (4643, 0.02159167585437653), (1, 0.02127178149057585), (46, 0.02127178149057585), (147, 0.02127178149057585), (203, 0.02127178149057585), (315, 0.02127178149057585), (405, 0.02127178149057585), (468, 0.02127178149057585), (544, 0.02127178149057585), (547, 0.02127178149057585), (764, 0.02127178149057585), (1284, 0.02127178149057585), (1321, 0.02127178149057585), (1348, 0.02127178149057585), (1447, 0.02127178149057585), (1498, 0.02127178149057585), (1694, 0.02127178149057585), (1762, 0.02127178149057585), (1887, 0.02127178149057585), (2208, 0.02127178149057585), (2418, 0.02127178149057585), (2587, 0.02127178149057585), (2627, 0.02127178149057585), (2683, 0.02127178149057585), (2720, 0.02127178149057585), (3132, 0.02127178149057585), (3145, 0.02127178149057585), (3252, 0.02127178149057585), (3256, 0.02127178149057585), (3313, 0.02127178149057585), (3538, 0.02127178149057585), (3576, 0.02127178149057585), (3737, 0.02127178149057585), (3739, 0.02127178149057585), (3769, 0.02127178149057585), (3795, 0.02127178149057585), (4136, 0.02127178149057585), (4462, 0.02127178149057585), (4218, 0.021040977754872), (72, 0.020965696734438367), (265, 0.020965696734438367), (341, 0.020965696734438367), (346, 0.020965696734438367), (474, 0.020965696734438367), (512, 0.020965696734438367), (599, 0.020965696734438367), (753, 0.020965696734438367), (787, 0.020965696734438367), (882, 0.020965696734438367), (927, 0.020965696734438367), (1028, 0.020965696734438367), (1157, 0.020965696734438367), (1507, 0.020965696734438367), (1579, 0.020965696734438367), (1805, 0.020965696734438367), (1939, 0.020965696734438367), (2016, 0.020965696734438367), (2161, 0.020965696734438367), (2169, 0.020965696734438367), (2378, 0.020965696734438367), (2412, 0.020965696734438367), (2446, 0.020965696734438367), (2483, 0.020965696734438367), (2656, 0.020965696734438367), (2730, 0.020965696734438367), (2924, 0.020965696734438367), (3003, 0.020965696734438367), (3029, 0.020965696734438367), (3246, 0.020965696734438367), (3341, 0.020965696734438367), (3344, 0.020965696734438367), (3364, 0.020965696734438367), (3383, 0.020965696734438367), (3507, 0.020965696734438367), (3782, 0.020965696734438367), (3783, 0.020965696734438367), (4266, 0.020965696734438367), (4537, 0.020965696734438367), (4661, 0.020965696734438367), (242, 0.020672455764868078), (245, 0.020672455764868078), (306, 0.020672455764868078), (716, 0.020672455764868078), (786, 0.020672455764868078), (802, 0.020672455764868078), (1147, 0.020672455764868078), (1167, 0.020672455764868078), (1226, 0.020672455764868078), (1266, 0.020672455764868078), (1359, 0.020672455764868078), (1437, 0.020672455764868078), (1802, 0.020672455764868078), (1954, 0.020672455764868078), (2085, 0.020672455764868078), (2493, 0.020672455764868078), (2729, 0.020672455764868078), (2859, 0.020672455764868078), (3405, 0.020672455764868078), (3430, 0.020672455764868078), (3493, 0.020672455764868078), (3512, 0.020672455764868078), (3568, 0.020672455764868078), (3958, 0.020672455764868078), (4102, 0.020672455764868078), (4206, 0.020672455764868078), (4277, 0.020672455764868078), (4534, 0.020672455764868078), (4651, 0.020672455764868078), (332, 0.020391184757154644), (556, 0.020391184757154644), (760, 0.020391184757154644), (854, 0.020391184757154644), (1234, 0.020391184757154644), (1500, 0.020391184757154644), (1740, 0.020391184757154644), (1804, 0.020391184757154644), (1829, 0.020391184757154644), (1955, 0.020391184757154644), (2143, 0.020391184757154644), (2282, 0.020391184757154644), (2315, 0.020391184757154644), (2463, 0.020391184757154644), (2700, 0.020391184757154644), (2873, 0.020391184757154644), (2901, 0.020391184757154644), (2942, 0.020391184757154644), (2977, 0.020391184757154644), (3273, 0.020391184757154644), (3337, 0.020391184757154644), (3600, 0.020391184757154644), (3628, 0.020391184757154644), (3787, 0.020391184757154644), (3809, 0.020391184757154644), (3896, 0.020391184757154644), (4058, 0.020391184757154644), (4079, 0.020391184757154644), (4108, 0.020391184757154644), (4120, 0.020391184757154644), (4289, 0.020391184757154644), (4338, 0.020391184757154644), (4652, 0.020391184757154644), (69, 0.020254787341673335), (241, 0.020121090914638345), (322, 0.020121090914638345), (329, 0.020121090914638345), (411, 0.020121090914638345), (485, 0.020121090914638345), (711, 0.020121090914638345), (905, 0.020121090914638345), (938, 0.020121090914638345), (964, 0.020121090914638345), (1158, 0.020121090914638345), (1175, 0.020121090914638345), (1466, 0.020121090914638345), (2066, 0.020121090914638345), (2530, 0.020121090914638345), (2534, 0.020121090914638345), (2664, 0.020121090914638345), (2793, 0.020121090914638345), (2815, 0.020121090914638345), (2821, 0.020121090914638345), (2852, 0.020121090914638345), (3002, 0.020121090914638345), (3217, 0.020121090914638345), (3228, 0.020121090914638345), (3335, 0.020121090914638345), (3649, 0.020121090914638345), (3908, 0.020121090914638345), (4071, 0.020121090914638345), (4135, 0.020121090914638345), (4149, 0.020121090914638345), (4793, 0.020121090914638345), (174, 0.019861453057473933), (223, 0.019861453057473933), (287, 0.019861453057473933), (380, 0.019861453057473933), (437, 0.019861453057473933), (500, 0.019861453057473933), (650, 0.019861453057473933), (687, 0.019861453057473933), (731, 0.019861453057473933), (844, 0.019861453057473933), (929, 0.019861453057473933), (1012, 0.019861453057473933), (1110, 0.019861453057473933), (1192, 0.019861453057473933), (1713, 0.019861453057473933), (2171, 0.019861453057473933), (2205, 0.019861453057473933), (2267, 0.019861453057473933), (2563, 0.019861453057473933), (2607, 0.019861453057473933), (2906, 0.019861453057473933), (3023, 0.019861453057473933), (3161, 0.019861453057473933), (3461, 0.019861453057473933), (3546, 0.019861453057473933), (3617, 0.019861453057473933), (3952, 0.019861453057473933), (4160, 0.019861453057473933), (4317, 0.019861453057473933), (4335, 0.019861453057473933), (4368, 0.019861453057473933), (10, 0.019611613513818404), (14, 0.019611613513818404), (101, 0.019611613513818404), (112, 0.019611613513818404), (207, 0.019611613513818404), (436, 0.019611613513818404), (519, 0.019611613513818404), (588, 0.019611613513818404), (619, 0.019611613513818404), (737, 0.019611613513818404), (849, 0.019611613513818404), (1068, 0.019611613513818404), (1079, 0.019611613513818404), (1129, 0.019611613513818404), (1286, 0.019611613513818404), (1299, 0.019611613513818404), (1374, 0.019611613513818404), (1469, 0.019611613513818404), (1512, 0.019611613513818404), (1809, 0.019611613513818404), (2033, 0.019611613513818404), (2137, 0.019611613513818404), (2152, 0.019611613513818404), (2469, 0.019611613513818404), (2635, 0.019611613513818404), (2822, 0.019611613513818404), (2897, 0.019611613513818404), (3147, 0.019611613513818404), (3353, 0.019611613513818404), (3422, 0.019611613513818404), (3536, 0.019611613513818404), (3829, 0.019611613513818404), (3857, 0.019611613513818404), (4168, 0.019611613513818404), (4223, 0.019611613513818404), (4404, 0.019611613513818404), (4504, 0.019611613513818404), (4776, 0.019611613513818404), (125, 0.019430300405696058), (70, 0.019370971105651495), (82, 0.019370971105651495), (369, 0.019370971105651495), (793, 0.019370971105651495), (851, 0.019370971105651495), (867, 0.019370971105651495), (959, 0.019370971105651495), (1036, 0.019370971105651495), (1105, 0.019370971105651495), (1232, 0.019370971105651495), (1517, 0.019370971105651495), (1558, 0.019370971105651495), (1575, 0.019370971105651495), (2045, 0.019370971105651495), (2060, 0.019370971105651495), (2202, 0.019370971105651495), (2241, 0.019370971105651495), (2287, 0.019370971105651495), (2406, 0.019370971105651495), (2508, 0.019370971105651495), (2775, 0.019370971105651495), (2817, 0.019370971105651495), (2819, 0.019370971105651495), (3178, 0.019370971105651495), (3200, 0.019370971105651495), (3307, 0.019370971105651495), (3435, 0.019370971105651495), (3564, 0.019370971105651495), (3720, 0.019370971105651495), (3828, 0.019370971105651495), (3998, 0.019370971105651495), (4523, 0.019196191853267), (98, 0.01913897505877382), (166, 0.01913897505877382), (312, 0.01913897505877382), (361, 0.01913897505877382), (365, 0.01913897505877382), (451, 0.01913897505877382), (515, 0.01913897505877382), (521, 0.01913897505877382), (617, 0.01913897505877382), (677, 0.01913897505877382), (680, 0.01913897505877382), (765, 0.01913897505877382), (961, 0.01913897505877382), (1006, 0.01913897505877382), (1091, 0.01913897505877382), (1263, 0.01913897505877382), (1341, 0.01913897505877382), (1747, 0.01913897505877382), (1882, 0.01913897505877382), (1897, 0.01913897505877382), (2044, 0.01913897505877382), (2157, 0.01913897505877382), (2484, 0.01913897505877382), (2797, 0.01913897505877382), (2904, 0.01913897505877382), (2979, 0.01913897505877382), (3164, 0.01913897505877382), (3413, 0.01913897505877382), (3428, 0.01913897505877382), (3905, 0.01913897505877382), (4231, 0.01913897505877382), (4330, 0.01913897505877382), (4506, 0.01913897505877382), (440, 0.01891511969643836), (510, 0.01891511969643836), (594, 0.01891511969643836), (871, 0.01891511969643836), (1245, 0.01891511969643836), (1356, 0.01891511969643836), (1559, 0.01891511969643836), (1636, 0.01891511969643836), (1637, 0.01891511969643836), (1909, 0.01891511969643836), (1961, 0.01891511969643836), (2002, 0.01891511969643836), (2053, 0.01891511969643836), (2430, 0.01891511969643836), (2929, 0.01891511969643836), (3185, 0.01891511969643836), (3249, 0.01891511969643836), (3557, 0.01891511969643836), (3615, 0.01891511969643836), (3871, 0.01891511969643836), (4080, 0.01891511969643836), (4161, 0.01891511969643836), (4346, 0.01891511969643836), (4395, 0.01891511969643836), (71, 0.018698939800169144), (333, 0.018698939800169144), (438, 0.018698939800169144), (480, 0.018698939800169144), (535, 0.018698939800169144), (557, 0.018698939800169144), (580, 0.018698939800169144), (585, 0.018698939800169144), (656, 0.018698939800169144), (705, 0.018698939800169144), (779, 0.018698939800169144), (1106, 0.018698939800169144), (1201, 0.018698939800169144), (1296, 0.018698939800169144), (1726, 0.018698939800169144), (1866, 0.018698939800169144), (1879, 0.018698939800169144), (1904, 0.018698939800169144), (1964, 0.018698939800169144), (2015, 0.018698939800169144), (2180, 0.018698939800169144), (2195, 0.018698939800169144), (2257, 0.018698939800169144), (2339, 0.018698939800169144), (2395, 0.018698939800169144), (2454, 0.018698939800169144), (2486, 0.018698939800169144), (2548, 0.018698939800169144), (2703, 0.018698939800169144), (3005, 0.018698939800169144), (3179, 0.018698939800169144), (3448, 0.018698939800169144), (3642, 0.018698939800169144), (3798, 0.018698939800169144), (3831, 0.018698939800169144), (3838, 0.018698939800169144), (4141, 0.018698939800169144), (4547, 0.018698939800169144), (4718, 0.018698939800169144), (334, 0.018490006540840973), (523, 0.018490006540840973), (639, 0.018490006540840973), (658, 0.018490006540840973), (944, 0.018490006540840973), (987, 0.018490006540840973), (1316, 0.018490006540840973), (1494, 0.018490006540840973), (1758, 0.018490006540840973), (2008, 0.018490006540840973), (2308, 0.018490006540840973), (2481, 0.018490006540840973), (2694, 0.018490006540840973), (2760, 0.018490006540840973), (2919, 0.018490006540840973), (3027, 0.018490006540840973), (3060, 0.018490006540840973), (3170, 0.018490006540840973), (3199, 0.018490006540840973), (3230, 0.018490006540840973), (3496, 0.018490006540840973), (3722, 0.018490006540840973), (3846, 0.018490006540840973), (3848, 0.018490006540840973), (4419, 0.018490006540840973), (4525, 0.018490006540840973), (412, 0.01828792389898638), (823, 0.01828792389898638), (932, 0.01828792389898638), (976, 0.01828792389898638), (983, 0.01828792389898638), (1202, 0.01828792389898638), (1366, 0.01828792389898638), (1461, 0.01828792389898638), (1627, 0.01828792389898638), (1645, 0.01828792389898638), (1863, 0.01828792389898638), (1877, 0.01828792389898638), (2024, 0.01828792389898638), (2259, 0.01828792389898638), (2550, 0.01828792389898638), (2704, 0.01828792389898638), (2846, 0.01828792389898638), (2978, 0.01828792389898638), (3468, 0.01828792389898638), (4274, 0.01828792389898638), (4766, 0.01828792389898638), (2647, 0.018140636207803148), (11, 0.018092325506298503), (41, 0.018092325506298503), (93, 0.018092325506298503), (175, 0.018092325506298503), (271, 0.018092325506298503), (372, 0.018092325506298503), (724, 0.018092325506298503), (831, 0.018092325506298503), (1053, 0.018092325506298503), (1910, 0.018092325506298503), (2090, 0.018092325506298503), (2181, 0.018092325506298503), (2667, 0.018092325506298503), (2686, 0.018092325506298503), (2892, 0.018092325506298503), (2944, 0.018092325506298503), (3026, 0.018092325506298503), (3343, 0.018092325506298503), (3470, 0.018092325506298503), (3794, 0.018092325506298503), (4365, 0.018092325506298503), (4477, 0.018092325506298503), (1485, 0.017949676824587358), (240, 0.017902871850985828), (278, 0.017902871850985828), (376, 0.017902871850985828), (444, 0.017902871850985828), (574, 0.017902871850985828), (996, 0.017902871850985828), (1492, 0.017902871850985828), (1611, 0.017902871850985828), (1626, 0.017902871850985828), (1841, 0.017902871850985828), (2000, 0.017902871850985828), (2278, 0.017902871850985828), (2644, 0.017902871850985828), (2814, 0.017902871850985828), (2829, 0.017902871850985828), (3183, 0.017902871850985828), (3302, 0.017902871850985828), (3480, 0.017902871850985828), (3539, 0.017902871850985828), (4366, 0.017902871850985828), (4561, 0.017902871850985828), (4789, 0.017902871850985828), (129, 0.017719247798458352), (279, 0.017719247798458352), (335, 0.017719247798458352), (421, 0.017719247798458352), (446, 0.017719247798458352), (611, 0.017719247798458352), (759, 0.017719247798458352), (813, 0.017719247798458352), (829, 0.017719247798458352), (1000, 0.017719247798458352), (1143, 0.017719247798458352), (1440, 0.017719247798458352), (1526, 0.017719247798458352), (2077, 0.017719247798458352), (2097, 0.017719247798458352), (2605, 0.017719247798458352), (2785, 0.017719247798458352), (3240, 0.017719247798458352), (3241, 0.017719247798458352), (3469, 0.017719247798458352), (3626, 0.017719247798458352), (3696, 0.017719247798458352), (3807, 0.017719247798458352), (4169, 0.017719247798458352), (4319, 0.017719247798458352), (165, 0.017541160386140585), (388, 0.017541160386140585), (595, 0.017541160386140585), (600, 0.017541160386140585), (923, 0.017541160386140585), (1035, 0.017541160386140585), (1107, 0.017541160386140585), (1141, 0.017541160386140585), (1166, 0.017541160386140585), (1265, 0.017541160386140585), (1282, 0.017541160386140585), (1586, 0.017541160386140585), (1604, 0.017541160386140585), (1724, 0.017541160386140585), (1847, 0.017541160386140585), (1956, 0.017541160386140585), (2239, 0.017541160386140585), (2518, 0.017541160386140585), (2764, 0.017541160386140585), (3163, 0.017541160386140585), (3836, 0.017541160386140585), (3983, 0.017541160386140585), (4060, 0.017541160386140585), (4226, 0.017541160386140585), (4392, 0.017541160386140585), (43, 0.01736833685729687), (351, 0.01736833685729687), (432, 0.01736833685729687), (602, 0.01736833685729687), (665, 0.01736833685729687), (1124, 0.01736833685729687), (1207, 0.01736833685729687), (1230, 0.01736833685729687), (1532, 0.01736833685729687), (1536, 0.01736833685729687), (1584, 0.01736833685729687), (1757, 0.01736833685729687), (1796, 0.01736833685729687), (1968, 0.01736833685729687), (1974, 0.01736833685729687), (2010, 0.01736833685729687), (2029, 0.01736833685729687), (2086, 0.01736833685729687), (2327, 0.01736833685729687), (2367, 0.01736833685729687), (2462, 0.01736833685729687), (2571, 0.01736833685729687), (2687, 0.01736833685729687), (3021, 0.01736833685729687), (3220, 0.01736833685729687), (3305, 0.01736833685729687), (3366, 0.01736833685729687), (3527, 0.01736833685729687), (3560, 0.01736833685729687), (3583, 0.01736833685729687), (4077, 0.01736833685729687), (4110, 0.01736833685729687), (4210, 0.01736833685729687), (4417, 0.01736833685729687), (74, 0.017200522903844537), (110, 0.017200522903844537), (702, 0.017200522903844537), (718, 0.017200522903844537), (1189, 0.017200522903844537), (1200, 0.017200522903844537), (1236, 0.017200522903844537), (1439, 0.017200522903844537), (2357, 0.017200522903844537), (2600, 0.017200522903844537), (3328, 0.017200522903844537), (3336, 0.017200522903844537), (3438, 0.017200522903844537), (4187, 0.017200522903844537), (4445, 0.017200522903844537), (30, 0.01703748109239964), (123, 0.01703748109239964), (633, 0.01703748109239964), (735, 0.01703748109239964), (1014, 0.01703748109239964), (1247, 0.01703748109239964), (1506, 0.01703748109239964), (1719, 0.01703748109239964), (1746, 0.01703748109239964), (2280, 0.01703748109239964), (2405, 0.01703748109239964), (2672, 0.01703748109239964), (2673, 0.01703748109239964), (3203, 0.01703748109239964), (3226, 0.01703748109239964), (3923, 0.01703748109239964), (4519, 0.01703748109239964), (4610, 0.01703748109239964), (4688, 0.01703748109239964), (212, 0.016878989451394447), (270, 0.016878989451394447), (297, 0.016878989451394447), (398, 0.016878989451394447), (645, 0.016878989451394447), (1015, 0.016878989451394447), (1109, 0.016878989451394447), (1118, 0.016878989451394447), (1888, 0.016878989451394447), (1957, 0.016878989451394447), (1981, 0.016878989451394447), (2021, 0.016878989451394447), (2117, 0.016878989451394447), (2296, 0.016878989451394447), (2314, 0.016878989451394447), (2334, 0.016878989451394447), (2519, 0.016878989451394447), (2661, 0.016878989451394447), (2707, 0.016878989451394447), (2726, 0.016878989451394447), (2769, 0.016878989451394447), (3013, 0.016878989451394447), (3062, 0.016878989451394447), (3375, 0.016878989451394447), (3380, 0.016878989451394447), (3471, 0.016878989451394447), (3565, 0.016878989451394447), (3892, 0.016878989451394447), (3897, 0.016878989451394447), (4061, 0.016878989451394447), (4734, 0.016878989451394447), (386, 0.016724840200141818), (475, 0.016724840200141818), (717, 0.016724840200141818), (752, 0.016724840200141818), (1099, 0.016724840200141818), (1172, 0.016724840200141818), (1644, 0.016724840200141818), (1685, 0.016724840200141818), (2127, 0.016724840200141818), (2409, 0.016724840200141818), (2674, 0.016724840200141818), (2751, 0.016724840200141818), (2796, 0.016724840200141818), (3057, 0.016724840200141818), (4052, 0.016724840200141818), (4153, 0.016724840200141818), (4334, 0.016724840200141818), (4481, 0.016724840200141818), (119, 0.016574838603294898), (199, 0.016574838603294898), (354, 0.016574838603294898), (383, 0.016574838603294898), (740, 0.016574838603294898), (1525, 0.016574838603294898), (1553, 0.016574838603294898), (2046, 0.016574838603294898), (2374, 0.016574838603294898), (3755, 0.016574838603294898), (3781, 0.016574838603294898), (4498, 0.016574838603294898), (4514, 0.016574838603294898), (27, 0.016428801936338142), (572, 0.016428801936338142), (696, 0.016428801936338142), (703, 0.016428801936338142), (746, 0.016428801936338142), (1008, 0.016428801936338142), (1183, 0.016428801936338142), (1262, 0.016428801936338142), (1706, 0.016428801936338142), (2148, 0.016428801936338142), (2812, 0.016428801936338142), (2867, 0.016428801936338142), (3148, 0.016428801936338142), (3169, 0.016428801936338142), (3842, 0.016428801936338142), (4126, 0.016428801936338142), (4726, 0.016428801936338142), (32, 0.016286558549611408), (407, 0.016286558549611408), (425, 0.016286558549611408), (443, 0.016286558549611408), (450, 0.016286558549611408), (507, 0.016286558549611408), (750, 0.016286558549611408), (852, 0.016286558549611408), (1369, 0.016286558549611408), (1446, 0.016286558549611408), (1811, 0.016286558549611408), (2099, 0.016286558549611408), (2521, 0.016286558549611408), (3103, 0.016286558549611408), (3321, 0.016286558549611408), (3334, 0.016286558549611408), (3951, 0.016286558549611408), (541, 0.016147947019964578), (571, 0.016147947019964578), (592, 0.016147947019964578), (612, 0.016147947019964578), (1510, 0.016147947019964578), (2960, 0.016147947019964578), (2963, 0.016147947019964578), (4193, 0.016147947019964578), (4426, 0.016147947019964578), (15, 0.016012815380508715), (79, 0.016012815380508715), (873, 0.016012815380508715), (1548, 0.016012815380508715), (2313, 0.016012815380508715), (2359, 0.016012815380508715), (2478, 0.016012815380508715), (3008, 0.016012815380508715), (3602, 0.016012815380508715), (3852, 0.016012815380508715), (4443, 0.016012815380508715), (19, 0.015881020420107105), (102, 0.015881020420107105), (661, 0.015881020420107105), (1188, 0.015881020420107105), (1504, 0.015881020420107105), (2514, 0.015881020420107105), (2861, 0.015881020420107105), (2958, 0.015881020420107105), (3338, 0.015881020420107105), (3898, 0.015881020420107105), (4044, 0.015881020420107105), (4260, 0.015881020420107105), (4601, 0.015881020420107105), (84, 0.015752427045264396), (423, 0.015752427045264396), (836, 0.015752427045264396), (1312, 0.015752427045264396), (1390, 0.015752427045264396), (1473, 0.015752427045264396), (1775, 0.015752427045264396), (2197, 0.015752427045264396), (3153, 0.015752427045264396), (3156, 0.015752427045264396), (4163, 0.015752427045264396), (4174, 0.015752427045264396), (4546, 0.015752427045264396), (4716, 0.015752427045264396), (375, 0.015626907697949846), (1047, 0.015626907697949846), (1360, 0.015626907697949846), (1995, 0.015626907697949846), (2798, 0.015626907697949846), (2974, 0.015626907697949846), (3594, 0.015626907697949846), (3613, 0.015626907697949846), (4098, 0.015626907697949846), (4708, 0.015626907697949846), (252, 0.015504341823651058), (768, 0.015504341823651058), (1219, 0.015504341823651058), (2027, 0.015504341823651058), (2657, 0.015504341823651058), (2738, 0.015504341823651058), (3436, 0.015504341823651058), (3717, 0.015504341823651058), (3770, 0.015504341823651058), (4783, 0.015504341823651058), (1353, 0.015384615384615387), (1399, 0.015384615384615387), (1433, 0.015384615384615387), (2023, 0.015384615384615387), (2344, 0.015384615384615387), (2778, 0.015384615384615387), (3198, 0.015384615384615387), (3454, 0.015384615384615387), (4010, 0.015384615384615387), (4131, 0.015384615384615387), (4621, 0.015384615384615387), (17, 0.015267620413811482), (156, 0.015267620413811482), (222, 0.015267620413811482), (749, 0.015267620413811482), (999, 0.015267620413811482), (1343, 0.015267620413811482), (1358, 0.015267620413811482), (1570, 0.015267620413811482), (2220, 0.015267620413811482), (2912, 0.015267620413811482), (4352, 0.015267620413811482), (4376, 0.015267620413811482), (316, 0.015153254605645391), (363, 0.015153254605645391), (469, 0.015153254605645391), (1908, 0.015153254605645391), (1959, 0.015153254605645391), (2423, 0.015153254605645391), (2642, 0.015153254605645391), (3376, 0.015153254605645391), (3901, 0.015153254605645391), (4081, 0.015153254605645391), (4594, 0.015153254605645391), (1565, 0.015041420939904671), (1756, 0.015041420939904671), (1822, 0.015041420939904671), (2561, 0.015041420939904671), (3052, 0.015041420939904671), (3706, 0.015041420939904671), (4729, 0.015041420939904671), (1096, 0.014932027335788826), (1127, 0.014932027335788826), (1544, 0.014932027335788826), (3866, 0.014932027335788826), (1378, 0.014824986333222025), (1530, 0.014824986333222025), (2285, 0.014824986333222025), (3555, 0.014824986333222025), (3956, 0.014824986333222025), (4219, 0.014824986333222025), (864, 0.014720214798941532), (1319, 0.014720214798941532), (1491, 0.014720214798941532), (1549, 0.014720214798941532), (2966, 0.014720214798941532), (3137, 0.014720214798941532), (4586, 0.014720214798941532), (1213, 0.014617633655117156), (1737, 0.014617633655117156), (1807, 0.014617633655117156), (2386, 0.014617633655117156), (3542, 0.014617633655117156), (4324, 0.014617633655117156), (18, 0.014517167628488536), (679, 0.014517167628488536), (755, 0.014517167628488536), (3941, 0.014517167628488536), (2144, 0.014418745018211812), (2361, 0.014418745018211812), (1280, 0.014322297480788657), (3047, 0.014322297480788657), (4271, 0.014322297480788657), (1281, 0.014227759830611805), (1411, 0.014227759830611805), (2503, 0.014227759830611805), (2533, 0.014227759830611805), (3921, 0.014227759830611805), (4367, 0.014227759830611805), (542, 0.01413506985480439), (785, 0.01413506985480439), (1867, 0.01413506985480439), (2176, 0.01413506985480439), (4633, 0.01413506985480439), (4215, 0.014044168141158105), (4553, 0.014044168141158105), (4664, 0.014044168141158105), (2564, 0.013954997918088905), (59, 0.01386750490563073), (2189, 0.01386750490563073), (2592, 0.01386750490563073), (3116, 0.01386750490563073), (3515, 0.01386750490563073), (3802, 0.01386750490563073), (4085, 0.01386750490563073), (478, 0.013781637176578718), (1953, 0.013781637176578718), (4541, 0.013781637176578718), (229, 0.013697345026974844), (342, 0.013697345026974844), (1535, 0.013697345026974844), (3732, 0.013697345026974844), (415, 0.013614580855202117), (2109, 0.013614580855202117), (2506, 0.013614580855202117), (277, 0.013533299049019171), (3725, 0.013533299049019171), (1774, 0.01345345587992625), (1056, 0.013375009404306795), (1315, 0.013375009404306795), (1855, 0.013375009404306795), (2499, 0.013375009404306795), (3914, 0.013375009404306795), (4377, 0.013375009404306795), (3191, 0.01329791937083694), (860, 0.013222147133698627), (1646, 0.01307440900921227), (4507, 0.01307440900921227), (1850, 0.013002373149669486), (379, 0.012931515002796793), (1342, 0.012931515002796793), (1116, 0.012861802823771822), (1444, 0.012861802823771822), (1566, 0.012861802823771822), (3025, 0.012861802823771822), (3820, 0.012861802823771822), (2905, 0.012793206052938006), (3750, 0.012725695259515557), (3808, 0.012725695259515557), (1845, 0.012659242088545835), (2160, 0.012659242088545835), (3289, 0.012593819210851908), (3481, 0.012593819210851908), (2151, 0.01246595986677943), (462, 0.012341917379408774), (889, 0.01228126876972687), (486, 0.012221505550008447), (2295, 0.012221505550008447), (2559, 0.012221505550008447), (3659, 0.012221505550008447), (3664, 0.012221505550008447), (4313, 0.012104550653376052), (193, 0.012047318414773373), (3953, 0.011990890383648211), (307, 0.0118803729069973), (1819, 0.0118803729069973), (2283, 0.011826247919781653), (3399, 0.011772856008638626), (4008, 0.011772856008638626), (310, 0.011720180773462386), (1117, 0.01166820632324892), (3504, 0.01166820632324892), (2990, 0.011418322840058054), (4442, 0.01137024547772205), (4737, 0.011183835382312353), (4109, 0.011006302913143414), (4027, 0.01092064944849268), (3614, 0.010795837927188265), (4516, 0.010558537785999175), (3223, 0.010445609001327773), (304, 0.010060545457319173), (4728, 0.009219429215147958), (22, 0.0), (64, 0.0), (95, 0.0), (105, 0.0), (132, 0.0), (135, 0.0), (155, 0.0), (171, 0.0), (185, 0.0), (200, 0.0), (214, 0.0), (226, 0.0), (247, 0.0), (249, 0.0), (250, 0.0), (264, 0.0), (272, 0.0), (280, 0.0), (298, 0.0), (317, 0.0), (321, 0.0), (323, 0.0), (338, 0.0), (349, 0.0), (357, 0.0), (360, 0.0), (367, 0.0), (373, 0.0), (378, 0.0), (382, 0.0), (384, 0.0), (395, 0.0), (397, 0.0), (401, 0.0), (416, 0.0), (417, 0.0), (419, 0.0), (426, 0.0), (434, 0.0), (445, 0.0), (454, 0.0), (463, 0.0), (470, 0.0), (473, 0.0), (477, 0.0), (484, 0.0), (493, 0.0), (497, 0.0), (502, 0.0), (532, 0.0), (536, 0.0), (549, 0.0), (551, 0.0), (552, 0.0), (567, 0.0), (584, 0.0), (593, 0.0), (616, 0.0), (620, 0.0), (628, 0.0), (630, 0.0), (632, 0.0), (635, 0.0), (638, 0.0), (641, 0.0), (647, 0.0), (648, 0.0), (649, 0.0), (652, 0.0), (662, 0.0), (663, 0.0), (666, 0.0), (669, 0.0), (670, 0.0), (671, 0.0), (672, 0.0), (675, 0.0), (681, 0.0), (682, 0.0), (697, 0.0), (706, 0.0), (709, 0.0), (710, 0.0), (712, 0.0), (720, 0.0), (721, 0.0), (723, 0.0), (726, 0.0), (729, 0.0), (733, 0.0), (738, 0.0), (751, 0.0), (756, 0.0), (757, 0.0), (771, 0.0), (780, 0.0), (783, 0.0), (789, 0.0), (792, 0.0), (795, 0.0), (796, 0.0), (798, 0.0), (806, 0.0), (809, 0.0), (811, 0.0), (815, 0.0), (817, 0.0), (822, 0.0), (824, 0.0), (827, 0.0), (841, 0.0), (843, 0.0), (846, 0.0), (847, 0.0), (855, 0.0), (857, 0.0), (861, 0.0), (862, 0.0), (865, 0.0), (868, 0.0), (869, 0.0), (872, 0.0), (881, 0.0), (883, 0.0), (884, 0.0), (885, 0.0), (890, 0.0), (891, 0.0), (892, 0.0), (898, 0.0), (900, 0.0), (901, 0.0), (902, 0.0), (903, 0.0), (904, 0.0), (907, 0.0), (909, 0.0), (910, 0.0), (912, 0.0), (913, 0.0), (915, 0.0), (916, 0.0), (924, 0.0), (928, 0.0), (936, 0.0), (940, 0.0), (943, 0.0), (953, 0.0), (954, 0.0), (958, 0.0), (962, 0.0), (965, 0.0), (967, 0.0), (968, 0.0), (970, 0.0), (971, 0.0), (978, 0.0), (980, 0.0), (997, 0.0), (998, 0.0), (1005, 0.0), (1007, 0.0), (1010, 0.0), (1011, 0.0), (1016, 0.0), (1017, 0.0), (1021, 0.0), (1022, 0.0), (1023, 0.0), (1025, 0.0), (1026, 0.0), (1032, 0.0), (1037, 0.0), (1038, 0.0), (1039, 0.0), (1048, 0.0), (1050, 0.0), (1054, 0.0), (1057, 0.0), (1061, 0.0), (1065, 0.0), (1072, 0.0), (1075, 0.0), (1081, 0.0), (1085, 0.0), (1090, 0.0), (1094, 0.0), (1098, 0.0), (1102, 0.0), (1111, 0.0), (1112, 0.0), (1113, 0.0), (1122, 0.0), (1125, 0.0), (1128, 0.0), (1135, 0.0), (1148, 0.0), (1149, 0.0), (1154, 0.0), (1156, 0.0), (1159, 0.0), (1160, 0.0), (1161, 0.0), (1163, 0.0), (1168, 0.0), (1169, 0.0), (1170, 0.0), (1181, 0.0), (1182, 0.0), (1184, 0.0), (1185, 0.0), (1187, 0.0), (1194, 0.0), (1197, 0.0), (1209, 0.0), (1210, 0.0), (1212, 0.0), (1215, 0.0), (1218, 0.0), (1223, 0.0), (1225, 0.0), (1227, 0.0), (1237, 0.0), (1241, 0.0), (1242, 0.0), (1243, 0.0), (1250, 0.0), (1252, 0.0), (1259, 0.0), (1261, 0.0), (1275, 0.0), (1283, 0.0), (1295, 0.0), (1297, 0.0), (1300, 0.0), (1307, 0.0), (1308, 0.0), (1309, 0.0), (1314, 0.0), (1325, 0.0), (1326, 0.0), (1327, 0.0), (1329, 0.0), (1333, 0.0), (1335, 0.0), (1344, 0.0), (1346, 0.0), (1349, 0.0), (1350, 0.0), (1351, 0.0), (1355, 0.0), (1370, 0.0), (1371, 0.0), (1372, 0.0), (1373, 0.0), (1376, 0.0), (1379, 0.0), (1383, 0.0), (1387, 0.0), (1392, 0.0), (1393, 0.0), (1394, 0.0), (1396, 0.0), (1401, 0.0), (1402, 0.0), (1405, 0.0), (1406, 0.0), (1408, 0.0), (1413, 0.0), (1415, 0.0), (1421, 0.0), (1424, 0.0), (1427, 0.0), (1430, 0.0), (1435, 0.0), (1442, 0.0), (1454, 0.0), (1455, 0.0), (1458, 0.0), (1462, 0.0), (1467, 0.0), (1472, 0.0), (1475, 0.0), (1476, 0.0), (1477, 0.0), (1478, 0.0), (1487, 0.0), (1489, 0.0), (1499, 0.0), (1501, 0.0), (1516, 0.0), (1524, 0.0), (1529, 0.0), (1534, 0.0), (1537, 0.0), (1543, 0.0), (1545, 0.0), (1552, 0.0), (1554, 0.0), (1557, 0.0), (1564, 0.0), (1569, 0.0), (1571, 0.0), (1576, 0.0), (1582, 0.0), (1585, 0.0), (1588, 0.0), (1590, 0.0), (1591, 0.0), (1595, 0.0), (1598, 0.0), (1599, 0.0), (1602, 0.0), (1603, 0.0), (1605, 0.0), (1607, 0.0), (1612, 0.0), (1613, 0.0), (1618, 0.0), (1619, 0.0), (1621, 0.0), (1624, 0.0), (1629, 0.0), (1630, 0.0), (1631, 0.0), (1632, 0.0), (1638, 0.0), (1640, 0.0), (1641, 0.0), (1643, 0.0), (1648, 0.0), (1649, 0.0), (1654, 0.0), (1657, 0.0), (1659, 0.0), (1660, 0.0), (1662, 0.0), (1663, 0.0), (1665, 0.0), (1666, 0.0), (1673, 0.0), (1674, 0.0), (1678, 0.0), (1679, 0.0), (1681, 0.0), (1687, 0.0), (1688, 0.0), (1689, 0.0), (1691, 0.0), (1692, 0.0), (1693, 0.0), (1700, 0.0), (1704, 0.0), (1708, 0.0), (1712, 0.0), (1714, 0.0), (1716, 0.0), (1722, 0.0), (1725, 0.0), (1728, 0.0), (1729, 0.0), (1732, 0.0), (1736, 0.0), (1738, 0.0), (1739, 0.0), (1748, 0.0), (1749, 0.0), (1751, 0.0), (1759, 0.0), (1763, 0.0), (1767, 0.0), (1768, 0.0), (1770, 0.0), (1772, 0.0), (1779, 0.0), (1780, 0.0), (1786, 0.0), (1787, 0.0), (1791, 0.0), (1793, 0.0), (1801, 0.0), (1803, 0.0), (1806, 0.0), (1810, 0.0), (1814, 0.0), (1816, 0.0), (1818, 0.0), (1823, 0.0), (1824, 0.0), (1828, 0.0), (1832, 0.0), (1838, 0.0), (1840, 0.0), (1842, 0.0), (1843, 0.0), (1852, 0.0), (1861, 0.0), (1864, 0.0), (1865, 0.0), (1869, 0.0), (1873, 0.0), (1875, 0.0), (1876, 0.0), (1881, 0.0), (1883, 0.0), (1884, 0.0), (1889, 0.0), (1890, 0.0), (1891, 0.0), (1893, 0.0), (1899, 0.0), (1903, 0.0), (1906, 0.0), (1911, 0.0), (1915, 0.0), (1916, 0.0), (1917, 0.0), (1925, 0.0), (1926, 0.0), (1927, 0.0), (1928, 0.0), (1929, 0.0), (1934, 0.0), (1943, 0.0), (1944, 0.0), (1948, 0.0), (1949, 0.0), (1958, 0.0), (1960, 0.0), (1963, 0.0), (1966, 0.0), (1967, 0.0), (1969, 0.0), (1971, 0.0), (1972, 0.0), (1975, 0.0), (1979, 0.0), (1980, 0.0), (1985, 0.0), (1988, 0.0), (1989, 0.0), (1993, 0.0), (1994, 0.0), (1996, 0.0), (1997, 0.0), (2003, 0.0), (2004, 0.0), (2006, 0.0), (2009, 0.0), (2012, 0.0), (2014, 0.0), (2018, 0.0), (2022, 0.0), (2028, 0.0), (2030, 0.0), (2031, 0.0), (2032, 0.0), (2034, 0.0), (2035, 0.0), (2038, 0.0), (2039, 0.0), (2040, 0.0), (2051, 0.0), (2052, 0.0), (2058, 0.0), (2059, 0.0), (2062, 0.0), (2065, 0.0), (2068, 0.0), (2070, 0.0), (2071, 0.0), (2072, 0.0), (2073, 0.0), (2076, 0.0), (2078, 0.0), (2079, 0.0), (2081, 0.0), (2082, 0.0), (2087, 0.0), (2091, 0.0), (2098, 0.0), (2101, 0.0), (2102, 0.0), (2105, 0.0), (2107, 0.0), (2108, 0.0), (2113, 0.0), (2115, 0.0), (2123, 0.0), (2124, 0.0), (2126, 0.0), (2128, 0.0), (2130, 0.0), (2138, 0.0), (2141, 0.0), (2147, 0.0), (2150, 0.0), (2166, 0.0), (2168, 0.0), (2170, 0.0), (2172, 0.0), (2174, 0.0), (2178, 0.0), (2179, 0.0), (2183, 0.0), (2186, 0.0), (2187, 0.0), (2191, 0.0), (2192, 0.0), (2199, 0.0), (2204, 0.0), (2206, 0.0), (2213, 0.0), (2214, 0.0), (2215, 0.0), (2216, 0.0), (2223, 0.0), (2230, 0.0), (2233, 0.0), (2242, 0.0), (2246, 0.0), (2251, 0.0), (2261, 0.0), (2265, 0.0), (2269, 0.0), (2271, 0.0), (2273, 0.0), (2275, 0.0), (2276, 0.0), (2279, 0.0), (2281, 0.0), (2284, 0.0), (2289, 0.0), (2297, 0.0), (2298, 0.0), (2300, 0.0), (2301, 0.0), (2305, 0.0), (2310, 0.0), (2316, 0.0), (2318, 0.0), (2319, 0.0), (2321, 0.0), (2323, 0.0), (2329, 0.0), (2330, 0.0), (2331, 0.0), (2333, 0.0), (2335, 0.0), (2341, 0.0), (2345, 0.0), (2348, 0.0), (2353, 0.0), (2355, 0.0), (2358, 0.0), (2362, 0.0), (2365, 0.0), (2368, 0.0), (2369, 0.0), (2370, 0.0), (2373, 0.0), (2375, 0.0), (2376, 0.0), (2384, 0.0), (2385, 0.0), (2387, 0.0), (2391, 0.0), (2392, 0.0), (2393, 0.0), (2397, 0.0), (2401, 0.0), (2408, 0.0), (2411, 0.0), (2413, 0.0), (2414, 0.0), (2415, 0.0), (2419, 0.0), (2421, 0.0), (2424, 0.0), (2425, 0.0), (2426, 0.0), (2428, 0.0), (2434, 0.0), (2436, 0.0), (2440, 0.0), (2445, 0.0), (2449, 0.0), (2452, 0.0), (2453, 0.0), (2455, 0.0), (2456, 0.0), (2457, 0.0), (2458, 0.0), (2468, 0.0), (2473, 0.0), (2475, 0.0), (2476, 0.0), (2479, 0.0), (2482, 0.0), (2488, 0.0), (2497, 0.0), (2498, 0.0), (2504, 0.0), (2505, 0.0), (2513, 0.0), (2516, 0.0), (2520, 0.0), (2522, 0.0), (2523, 0.0), (2526, 0.0), (2531, 0.0), (2536, 0.0), (2537, 0.0), (2539, 0.0), (2545, 0.0), (2546, 0.0), (2547, 0.0), (2549, 0.0), (2552, 0.0), (2554, 0.0), (2555, 0.0), (2557, 0.0), (2560, 0.0), (2562, 0.0), (2566, 0.0), (2569, 0.0), (2575, 0.0), (2576, 0.0), (2585, 0.0), (2588, 0.0), (2589, 0.0), (2594, 0.0), (2596, 0.0), (2598, 0.0), (2603, 0.0), (2604, 0.0), (2610, 0.0), (2612, 0.0), (2613, 0.0), (2614, 0.0), (2616, 0.0), (2620, 0.0), (2621, 0.0), (2624, 0.0), (2628, 0.0), (2629, 0.0), (2630, 0.0), (2631, 0.0), (2633, 0.0), (2638, 0.0), (2640, 0.0), (2648, 0.0), (2652, 0.0), (2654, 0.0), (2658, 0.0), (2660, 0.0), (2663, 0.0), (2666, 0.0), (2670, 0.0), (2671, 0.0), (2675, 0.0), (2676, 0.0), (2681, 0.0), (2684, 0.0), (2689, 0.0), (2690, 0.0), (2691, 0.0), (2695, 0.0), (2696, 0.0), (2697, 0.0), (2698, 0.0), (2699, 0.0), (2702, 0.0), (2705, 0.0), (2706, 0.0), (2708, 0.0), (2710, 0.0), (2712, 0.0), (2715, 0.0), (2716, 0.0), (2717, 0.0), (2718, 0.0), (2721, 0.0), (2723, 0.0), (2724, 0.0), (2725, 0.0), (2732, 0.0), (2733, 0.0), (2741, 0.0), (2742, 0.0), (2748, 0.0), (2750, 0.0), (2752, 0.0), (2753, 0.0), (2755, 0.0), (2758, 0.0), (2759, 0.0), (2762, 0.0), (2763, 0.0), (2765, 0.0), (2766, 0.0), (2767, 0.0), (2768, 0.0), (2770, 0.0), (2771, 0.0), (2773, 0.0), (2777, 0.0), (2779, 0.0), (2781, 0.0), (2782, 0.0), (2786, 0.0), (2788, 0.0), (2790, 0.0), (2792, 0.0), (2799, 0.0), (2801, 0.0), (2807, 0.0), (2808, 0.0), (2809, 0.0), (2813, 0.0), (2816, 0.0), (2823, 0.0), (2827, 0.0), (2828, 0.0), (2831, 0.0), (2833, 0.0), (2835, 0.0), (2838, 0.0), (2839, 0.0), (2840, 0.0), (2843, 0.0), (2844, 0.0), (2847, 0.0), (2848, 0.0), (2849, 0.0), (2851, 0.0), (2853, 0.0), (2855, 0.0), (2856, 0.0), (2857, 0.0), (2858, 0.0), (2860, 0.0), (2869, 0.0), (2870, 0.0), (2872, 0.0), (2874, 0.0), (2878, 0.0), (2879, 0.0), (2881, 0.0), (2883, 0.0), (2884, 0.0), (2886, 0.0), (2888, 0.0), (2889, 0.0), (2891, 0.0), (2893, 0.0), (2894, 0.0), (2895, 0.0), (2899, 0.0), (2902, 0.0), (2903, 0.0), (2907, 0.0), (2908, 0.0), (2909, 0.0), (2910, 0.0), (2913, 0.0), (2918, 0.0), (2921, 0.0), (2923, 0.0), (2925, 0.0), (2926, 0.0), (2931, 0.0), (2933, 0.0), (2934, 0.0), (2935, 0.0), (2937, 0.0), (2938, 0.0), (2939, 0.0), (2940, 0.0), (2941, 0.0), (2943, 0.0), (2945, 0.0), (2946, 0.0), (2947, 0.0), (2948, 0.0), (2949, 0.0), (2951, 0.0), (2953, 0.0), (2955, 0.0), (2957, 0.0), (2959, 0.0), (2961, 0.0), (2962, 0.0), (2967, 0.0), (2969, 0.0), (2970, 0.0), (2975, 0.0), (2976, 0.0), (2980, 0.0), (2981, 0.0), (2982, 0.0), (2984, 0.0), (2988, 0.0), (2989, 0.0), (2992, 0.0), (3001, 0.0), (3009, 0.0), (3010, 0.0), (3014, 0.0), (3016, 0.0), (3024, 0.0), (3030, 0.0), (3033, 0.0), (3042, 0.0), (3043, 0.0), (3046, 0.0), (3051, 0.0), (3053, 0.0), (3054, 0.0), (3063, 0.0), (3065, 0.0), (3067, 0.0), (3069, 0.0), (3070, 0.0), (3074, 0.0), (3075, 0.0), (3077, 0.0), (3078, 0.0), (3079, 0.0), (3089, 0.0), (3092, 0.0), (3093, 0.0), (3094, 0.0), (3095, 0.0), (3096, 0.0), (3099, 0.0), (3100, 0.0), (3102, 0.0), (3106, 0.0), (3107, 0.0), (3108, 0.0), (3109, 0.0), (3111, 0.0), (3112, 0.0), (3117, 0.0), (3120, 0.0), (3121, 0.0), (3123, 0.0), (3129, 0.0), (3131, 0.0), (3133, 0.0), (3134, 0.0), (3136, 0.0), (3139, 0.0), (3146, 0.0), (3151, 0.0), (3162, 0.0), (3165, 0.0), (3166, 0.0), (3167, 0.0), (3168, 0.0), (3171, 0.0), (3172, 0.0), (3173, 0.0), (3174, 0.0), (3175, 0.0), (3180, 0.0), (3181, 0.0), (3192, 0.0), (3193, 0.0), (3197, 0.0), (3201, 0.0), (3204, 0.0), (3213, 0.0), (3215, 0.0), (3216, 0.0), (3222, 0.0), (3224, 0.0), (3227, 0.0), (3231, 0.0), (3233, 0.0), (3236, 0.0), (3238, 0.0), (3244, 0.0), (3247, 0.0), (3248, 0.0), (3253, 0.0), (3254, 0.0), (3255, 0.0), (3260, 0.0), (3261, 0.0), (3262, 0.0), (3263, 0.0), (3264, 0.0), (3265, 0.0), (3274, 0.0), (3275, 0.0), (3278, 0.0), (3279, 0.0), (3282, 0.0), (3284, 0.0), (3286, 0.0), (3287, 0.0), (3288, 0.0), (3290, 0.0), (3291, 0.0), (3294, 0.0), (3297, 0.0), (3299, 0.0), (3300, 0.0), (3306, 0.0), (3310, 0.0), (3322, 0.0), (3323, 0.0), (3329, 0.0), (3330, 0.0), (3332, 0.0), (3333, 0.0), (3339, 0.0), (3340, 0.0), (3346, 0.0), (3347, 0.0), (3352, 0.0), (3354, 0.0), (3355, 0.0), (3357, 0.0), (3361, 0.0), (3365, 0.0), (3367, 0.0), (3370, 0.0), (3373, 0.0), (3377, 0.0), (3378, 0.0), (3385, 0.0), (3386, 0.0), (3387, 0.0), (3388, 0.0), (3393, 0.0), (3394, 0.0), (3395, 0.0), (3396, 0.0), (3404, 0.0), (3408, 0.0), (3409, 0.0), (3410, 0.0), (3412, 0.0), (3417, 0.0), (3421, 0.0), (3425, 0.0), (3426, 0.0), (3427, 0.0), (3429, 0.0), (3432, 0.0), (3433, 0.0), (3439, 0.0), (3440, 0.0), (3442, 0.0), (3445, 0.0), (3450, 0.0), (3451, 0.0), (3452, 0.0), (3453, 0.0), (3455, 0.0), (3456, 0.0), (3458, 0.0), (3464, 0.0), (3465, 0.0), (3466, 0.0), (3467, 0.0), (3472, 0.0), (3473, 0.0), (3477, 0.0), (3479, 0.0), (3486, 0.0), (3487, 0.0), (3488, 0.0), (3491, 0.0), (3492, 0.0), (3494, 0.0), (3498, 0.0), (3500, 0.0), (3501, 0.0), (3509, 0.0), (3511, 0.0), (3513, 0.0), (3516, 0.0), (3518, 0.0), (3526, 0.0), (3528, 0.0), (3529, 0.0), (3530, 0.0), (3531, 0.0), (3532, 0.0), (3537, 0.0), (3541, 0.0), (3545, 0.0), (3547, 0.0), (3550, 0.0), (3551, 0.0), (3554, 0.0), (3556, 0.0), (3558, 0.0), (3559, 0.0), (3561, 0.0), (3563, 0.0), (3566, 0.0), (3569, 0.0), (3570, 0.0), (3571, 0.0), (3573, 0.0), (3580, 0.0), (3584, 0.0), (3585, 0.0), (3589, 0.0), (3593, 0.0), (3595, 0.0), (3597, 0.0), (3599, 0.0), (3603, 0.0), (3604, 0.0), (3607, 0.0), (3608, 0.0), (3609, 0.0), (3610, 0.0), (3618, 0.0), (3619, 0.0), (3623, 0.0), (3625, 0.0), (3630, 0.0), (3631, 0.0), (3632, 0.0), (3634, 0.0), (3635, 0.0), (3637, 0.0), (3638, 0.0), (3640, 0.0), (3644, 0.0), (3645, 0.0), (3648, 0.0), (3650, 0.0), (3651, 0.0), (3652, 0.0), (3653, 0.0), (3654, 0.0), (3656, 0.0), (3658, 0.0), (3660, 0.0), (3663, 0.0), (3665, 0.0), (3668, 0.0), (3670, 0.0), (3672, 0.0), (3674, 0.0), (3675, 0.0), (3676, 0.0), (3677, 0.0), (3680, 0.0), (3683, 0.0), (3684, 0.0), (3685, 0.0), (3686, 0.0), (3689, 0.0), (3690, 0.0), (3691, 0.0), (3692, 0.0), (3693, 0.0), (3694, 0.0), (3695, 0.0), (3697, 0.0), (3699, 0.0), (3703, 0.0), (3707, 0.0), (3708, 0.0), (3709, 0.0), (3712, 0.0), (3715, 0.0), (3718, 0.0), (3719, 0.0), (3726, 0.0), (3731, 0.0), (3735, 0.0), (3736, 0.0), (3738, 0.0), (3742, 0.0), (3743, 0.0), (3744, 0.0), (3745, 0.0), (3747, 0.0), (3749, 0.0), (3751, 0.0), (3756, 0.0), (3758, 0.0), (3759, 0.0), (3761, 0.0), (3762, 0.0), (3765, 0.0), (3766, 0.0), (3767, 0.0), (3768, 0.0), (3771, 0.0), (3778, 0.0), (3779, 0.0), (3780, 0.0), (3784, 0.0), (3785, 0.0), (3786, 0.0), (3789, 0.0), (3792, 0.0), (3796, 0.0), (3799, 0.0), (3800, 0.0), (3804, 0.0), (3805, 0.0), (3806, 0.0), (3810, 0.0), (3811, 0.0), (3812, 0.0), (3813, 0.0), (3814, 0.0), (3821, 0.0), (3822, 0.0), (3823, 0.0), (3824, 0.0), (3830, 0.0), (3839, 0.0), (3840, 0.0), (3843, 0.0), (3845, 0.0), (3851, 0.0), (3854, 0.0), (3861, 0.0), (3862, 0.0), (3863, 0.0), (3864, 0.0), (3865, 0.0), (3869, 0.0), (3873, 0.0), (3875, 0.0), (3877, 0.0), (3878, 0.0), (3879, 0.0), (3880, 0.0), (3882, 0.0), (3886, 0.0), (3889, 0.0), (3891, 0.0), (3893, 0.0), (3902, 0.0), (3904, 0.0), (3906, 0.0), (3912, 0.0), (3913, 0.0), (3915, 0.0), (3916, 0.0), (3920, 0.0), (3922, 0.0), (3924, 0.0), (3925, 0.0), (3926, 0.0), (3929, 0.0), (3930, 0.0), (3931, 0.0), (3933, 0.0), (3934, 0.0), (3936, 0.0), (3938, 0.0), (3943, 0.0), (3945, 0.0), (3947, 0.0), (3948, 0.0), (3950, 0.0), (3957, 0.0), (3962, 0.0), (3963, 0.0), (3969, 0.0), (3970, 0.0), (3972, 0.0), (3973, 0.0), (3974, 0.0), (3978, 0.0), (3984, 0.0), (3986, 0.0), (3991, 0.0), (3993, 0.0), (3994, 0.0), (3995, 0.0), (3996, 0.0), (3999, 0.0), (4000, 0.0), (4001, 0.0), (4002, 0.0), (4004, 0.0), (4006, 0.0), (4014, 0.0), (4015, 0.0), (4018, 0.0), (4019, 0.0), (4020, 0.0), (4021, 0.0), (4023, 0.0), (4024, 0.0), (4025, 0.0), (4026, 0.0), (4028, 0.0), (4029, 0.0), (4034, 0.0), (4035, 0.0), (4037, 0.0), (4038, 0.0), (4039, 0.0), (4047, 0.0), (4051, 0.0), (4053, 0.0), (4055, 0.0), (4057, 0.0), (4062, 0.0), (4064, 0.0), (4067, 0.0), (4068, 0.0), (4069, 0.0), (4072, 0.0), (4073, 0.0), (4074, 0.0), (4075, 0.0), (4078, 0.0), (4082, 0.0), (4083, 0.0), (4086, 0.0), (4087, 0.0), (4088, 0.0), (4089, 0.0), (4090, 0.0), (4094, 0.0), (4095, 0.0), (4097, 0.0), (4101, 0.0), (4106, 0.0), (4107, 0.0), (4111, 0.0), (4112, 0.0), (4114, 0.0), (4115, 0.0), (4117, 0.0), (4119, 0.0), (4121, 0.0), (4132, 0.0), (4137, 0.0), (4138, 0.0), (4139, 0.0), (4140, 0.0), (4143, 0.0), (4146, 0.0), (4148, 0.0), (4152, 0.0), (4154, 0.0), (4157, 0.0), (4158, 0.0), (4166, 0.0), (4170, 0.0), (4172, 0.0), (4176, 0.0), (4177, 0.0), (4181, 0.0), (4182, 0.0), (4183, 0.0), (4184, 0.0), (4186, 0.0), (4188, 0.0), (4190, 0.0), (4195, 0.0), (4196, 0.0), (4198, 0.0), (4199, 0.0), (4202, 0.0), (4203, 0.0), (4208, 0.0), (4209, 0.0), (4211, 0.0), (4214, 0.0), (4217, 0.0), (4221, 0.0), (4224, 0.0), (4225, 0.0), (4227, 0.0), (4229, 0.0), (4230, 0.0), (4233, 0.0), (4234, 0.0), (4235, 0.0), (4236, 0.0), (4238, 0.0), (4240, 0.0), (4241, 0.0), (4242, 0.0), (4244, 0.0), (4246, 0.0), (4249, 0.0), (4250, 0.0), (4251, 0.0), (4252, 0.0), (4258, 0.0), (4259, 0.0), (4263, 0.0), (4264, 0.0), (4269, 0.0), (4272, 0.0), (4278, 0.0), (4281, 0.0), (4282, 0.0), (4285, 0.0), (4286, 0.0), (4287, 0.0), (4288, 0.0), (4291, 0.0), (4292, 0.0), (4293, 0.0), (4294, 0.0), (4296, 0.0), (4297, 0.0), (4301, 0.0), (4302, 0.0), (4304, 0.0), (4305, 0.0), (4306, 0.0), (4307, 0.0), (4308, 0.0), (4312, 0.0), (4316, 0.0), (4320, 0.0), (4321, 0.0), (4327, 0.0), (4329, 0.0), (4331, 0.0), (4333, 0.0), (4336, 0.0), (4340, 0.0), (4341, 0.0), (4344, 0.0), (4345, 0.0), (4348, 0.0), (4356, 0.0), (4357, 0.0), (4358, 0.0), (4359, 0.0), (4360, 0.0), (4362, 0.0), (4363, 0.0), (4364, 0.0), (4370, 0.0), (4371, 0.0), (4372, 0.0), (4373, 0.0), (4374, 0.0), (4379, 0.0), (4381, 0.0), (4382, 0.0), (4383, 0.0), (4384, 0.0), (4387, 0.0), (4389, 0.0), (4390, 0.0), (4394, 0.0), (4397, 0.0), (4407, 0.0), (4409, 0.0), (4411, 0.0), (4412, 0.0), (4413, 0.0), (4415, 0.0), (4416, 0.0), (4420, 0.0), (4422, 0.0), (4425, 0.0), (4428, 0.0), (4429, 0.0), (4430, 0.0), (4431, 0.0), (4432, 0.0), (4433, 0.0), (4434, 0.0), (4436, 0.0), (4437, 0.0), (4444, 0.0), (4446, 0.0), (4451, 0.0), (4452, 0.0), (4454, 0.0), (4455, 0.0), (4456, 0.0), (4458, 0.0), (4459, 0.0), (4461, 0.0), (4463, 0.0), (4464, 0.0), (4467, 0.0), (4469, 0.0), (4470, 0.0), (4471, 0.0), (4475, 0.0), (4482, 0.0), (4486, 0.0), (4487, 0.0), (4490, 0.0), (4495, 0.0), (4499, 0.0), (4501, 0.0), (4502, 0.0), (4503, 0.0), (4508, 0.0), (4509, 0.0), (4518, 0.0), (4524, 0.0), (4527, 0.0), (4528, 0.0), (4530, 0.0), (4533, 0.0), (4538, 0.0), (4539, 0.0), (4540, 0.0), (4542, 0.0), (4545, 0.0), (4549, 0.0), (4566, 0.0), (4568, 0.0), (4569, 0.0), (4576, 0.0), (4580, 0.0), (4581, 0.0), (4582, 0.0), (4583, 0.0), (4585, 0.0), (4587, 0.0), (4588, 0.0), (4589, 0.0), (4593, 0.0), (4595, 0.0), (4597, 0.0), (4599, 0.0), (4604, 0.0), (4605, 0.0), (4609, 0.0), (4611, 0.0), (4612, 0.0), (4614, 0.0), (4615, 0.0), (4616, 0.0), (4619, 0.0), (4622, 0.0), (4623, 0.0), (4625, 0.0), (4626, 0.0), (4627, 0.0), (4628, 0.0), (4629, 0.0), (4631, 0.0), (4632, 0.0), (4637, 0.0), (4640, 0.0), (4644, 0.0), (4648, 0.0), (4658, 0.0), (4659, 0.0), (4662, 0.0), (4665, 0.0), (4666, 0.0), (4668, 0.0), (4669, 0.0), (4670, 0.0), (4673, 0.0), (4674, 0.0), (4683, 0.0), (4684, 0.0), (4686, 0.0), (4690, 0.0), (4693, 0.0), (4694, 0.0), (4695, 0.0), (4696, 0.0), (4697, 0.0), (4700, 0.0), (4702, 0.0), (4707, 0.0), (4709, 0.0), (4710, 0.0), (4713, 0.0), (4714, 0.0), (4715, 0.0), (4717, 0.0), (4719, 0.0), (4720, 0.0), (4721, 0.0), (4722, 0.0), (4723, 0.0), (4725, 0.0), (4727, 0.0), (4732, 0.0), (4738, 0.0), (4742, 0.0), (4743, 0.0), (4744, 0.0), (4747, 0.0), (4748, 0.0), (4749, 0.0), (4750, 0.0), (4753, 0.0), (4754, 0.0), (4755, 0.0), (4756, 0.0), (4758, 0.0), (4759, 0.0), (4761, 0.0), (4764, 0.0), (4765, 0.0), (4768, 0.0), (4772, 0.0), (4774, 0.0), (4777, 0.0), (4778, 0.0), (4781, 0.0), (4782, 0.0), (4785, 0.0), (4786, 0.0), (4787, 0.0), (4788, 0.0), (4791, 0.0), (4794, 0.0), (4796, 0.0), (4797, 0.0), (4799, 0.0)]\n"
     ]
    },
    {
     "data": {
      "text/plain": [
       "['Out of Inferno',\n",
       " 'The Princess and the Frog',\n",
       " 'Home on the Range',\n",
       " 'Animals United',\n",
       " 'Toy Story 3']"
      ]
     },
     "execution_count": 16,
     "metadata": {},
     "output_type": "execute_result"
    }
   ],
   "source": [
    "recommend_similar('Tangled')"
   ]
  },
  {
   "cell_type": "code",
   "execution_count": 17,
   "metadata": {},
   "outputs": [],
   "source": [
    "pickle.dump(movies, open('artifacts/movies.pkl', 'wb'))\n",
    "pickle.dump(similarity, open('artifacts/similarity.pkl', 'wb'))"
   ]
  }
 ],
 "metadata": {
  "kernelspec": {
   "display_name": "Python 3",
   "language": "python",
   "name": "python3"
  },
  "language_info": {
   "codemirror_mode": {
    "name": "ipython",
    "version": 3
   },
   "file_extension": ".py",
   "mimetype": "text/x-python",
   "name": "python",
   "nbconvert_exporter": "python",
   "pygments_lexer": "ipython3",
   "version": "3.9.13"
  }
 },
 "nbformat": 4,
 "nbformat_minor": 2
}
